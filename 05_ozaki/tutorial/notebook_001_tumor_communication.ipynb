{
 "cells": [
  {
   "cell_type": "markdown",
   "metadata": {},
   "source": [
    "# 実習の説明\n",
    "\n",
    "## これは何か？\n",
    "\n",
    "Jupyter notebook というRを使うためのインターフェースの一つです。\n",
    "\n",
    "- Jupyter notebook の簡単な説明（日本語） https://datumstudio.jp/blog/795\n",
    "\n",
    "特に、今回は JupyterHub という形で（みなさんの手元のPCではなく）オンラインでJupyter notebookを使う環境を提供しています。\n",
    "これは、講義などで同一の環境でできるのに便利です。\n",
    "\n",
    "\n",
    "## 何をするか？\n",
    "\n",
    "非小細胞肺癌 (non-small-cell lung cancer; NSCLC) において、腫瘍組織内に存在する間質細胞から腫瘍細胞にシグナルのクロストークが送って腫瘍が活性化される可能性を探ります。データは、NSCLCモデルマウスと野生型のマウスの肺から、セルソーターで分けたマクロファージ、単球細胞、好中球、上皮細胞のRNA-seqデータです。\n",
    "\n",
    "> このようなRNA-seqデータを、「変数が全遺伝子、条件が細胞型xマウス（野生型 or 腫瘍）、値が発現量である表」として想像できると、あとの解析がスムーズです\n",
    "\n",
    "元ネタはこちら: \n",
    "\n",
    "- Toi _et al_., Transcriptome Analysis of Individual Stromal Cell Populations Identifies Stroma-Tumor Crosstalk in Mouse Lung Cancer Model, Cell Reports (2015) http://dx.doi.org/10.1016/j.celrep.2015.01.040 \n",
    "\n",
    "ソフトウェアやアノテーションデータが著者らのウェブページで公開されています。また、NGSデータの生データや処理済みデータはGene Expression Omnibus (GEO)より公開されています。\n",
    "\n",
    "- ソフトウェアやアノテーションデータ http://209.160.41.231/u54/CCCExplorer/\n",
    "- Gene Expression Omnibus (GEO)のNGSデータのページ https://www.ncbi.nlm.nih.gov/geo/query/acc.cgi?acc=GSE59831\n",
    "\n",
    "## どうやるか？\n",
    "\n",
    "腫瘍組織内間質細胞のリガンドから腫瘍細胞の受容体へのシグナルのクロストークがあるとしたら、\n",
    "\n",
    "- 腫瘍モデルマウスでは野生型に比べ、リガンドが発現上昇しているだろう\n",
    "- 腫瘍モデルマウスの上皮組織では、そのリガンドの受容体が発現しているだろう\n",
    "\n",
    "そのようなリガンドと受容体のペアを見つけるのに必要なデータは？\n",
    "\n",
    "- 既知のリガンド-受容体ペアのデータベース（ヒト）\n",
    "- ヒト-マウスオーソログの対応表\n",
    "- 腫瘍組織内間質細胞で発現上昇がみられた遺伝子のリスト\n",
    "- 腫瘍細胞で発現上昇\n",
    "\n",
    "それらのデータを組み合わせればよさそう"
   ]
  },
  {
   "attachments": {},
   "cell_type": "markdown",
   "metadata": {},
   "source": [
    "![image.png](https://ars.els-cdn.com/content/image/1-s2.0-S2211124715000650-fx1.jpg)\n",
    "(Image from http://dx.doi.org/10.1016/j.celrep.2015.01.040)"
   ]
  },
  {
   "cell_type": "markdown",
   "metadata": {},
   "source": [
    "# 練習"
   ]
  },
  {
   "cell_type": "markdown",
   "metadata": {},
   "source": [
    "## パッケージのロード\n",
    "パッケージ（ライブラリ）を使えるようにするためにロードする"
   ]
  },
  {
   "cell_type": "code",
   "execution_count": 1,
   "metadata": {},
   "outputs": [
    {
     "name": "stderr",
     "output_type": "stream",
     "text": [
      "\n",
      "Attaching package: ‘dplyr’\n",
      "\n",
      "The following objects are masked from ‘package:stats’:\n",
      "\n",
      "    filter, lag\n",
      "\n",
      "The following objects are masked from ‘package:base’:\n",
      "\n",
      "    intersect, setdiff, setequal, union\n",
      "\n",
      "\n",
      "Attaching package: ‘magrittr’\n",
      "\n",
      "The following object is masked from ‘package:tidyr’:\n",
      "\n",
      "    extract\n",
      "\n"
     ]
    }
   ],
   "source": [
    "library(readr)\n",
    "library(dplyr)\n",
    "library(tidyr)\n",
    "library(magrittr)\n",
    "library(ggplot2)"
   ]
  },
  {
   "cell_type": "code",
   "execution_count": 2,
   "metadata": {},
   "outputs": [],
   "source": [
    "# プロットを大きくしすぎない呪文\n",
    "options(repr.plot.width=4, repr.plot.height=4)"
   ]
  },
  {
   "cell_type": "markdown",
   "metadata": {},
   "source": [
    "## 発現変動遺伝子のデータをいじくる\n",
    "\n",
    "ここではマクロファージのデータ (`data/CCCExplorer/CD11CB_output/gene_exp.diff`) を例に、データのいじくりかたをみていきます。"
   ]
  },
  {
   "cell_type": "code",
   "execution_count": 3,
   "metadata": {},
   "outputs": [
    {
     "name": "stderr",
     "output_type": "stream",
     "text": [
      "Parsed with column specification:\n",
      "cols(\n",
      "  test_id = col_character(),\n",
      "  gene_id = col_character(),\n",
      "  gene = col_character(),\n",
      "  locus = col_character(),\n",
      "  sample_1 = col_character(),\n",
      "  sample_2 = col_character(),\n",
      "  status = col_character(),\n",
      "  value_1 = col_double(),\n",
      "  value_2 = col_double(),\n",
      "  `log2(fold_change)` = col_double(),\n",
      "  test_stat = col_double(),\n",
      "  p_value = col_double(),\n",
      "  q_value = col_double(),\n",
      "  significant = col_character()\n",
      ")\n"
     ]
    }
   ],
   "source": [
    "# データの読み込み\n",
    "deg_macrophage = read_tsv(\"data/CCCExplorer/CD11CB_output/gene_exp.diff\")"
   ]
  },
  {
   "cell_type": "code",
   "execution_count": 4,
   "metadata": {},
   "outputs": [
    {
     "data": {
      "text/html": [
       "<ol class=list-inline>\n",
       "\t<li>30743</li>\n",
       "\t<li>14</li>\n",
       "</ol>\n"
      ],
      "text/latex": [
       "\\begin{enumerate*}\n",
       "\\item 30743\n",
       "\\item 14\n",
       "\\end{enumerate*}\n"
      ],
      "text/markdown": [
       "1. 30743\n",
       "2. 14\n",
       "\n",
       "\n"
      ],
      "text/plain": [
       "[1] 30743    14"
      ]
     },
     "metadata": {},
     "output_type": "display_data"
    }
   ],
   "source": [
    "# とりあえず何行何列かみてみる\n",
    "dim(deg_macrophage)"
   ]
  },
  {
   "cell_type": "code",
   "execution_count": 5,
   "metadata": {},
   "outputs": [
    {
     "data": {
      "text/html": [
       "<table>\n",
       "<thead><tr><th scope=col>test_id</th><th scope=col>gene_id</th><th scope=col>gene</th><th scope=col>locus</th><th scope=col>sample_1</th><th scope=col>sample_2</th><th scope=col>status</th><th scope=col>value_1</th><th scope=col>value_2</th><th scope=col>log2(fold_change)</th><th scope=col>test_stat</th><th scope=col>p_value</th><th scope=col>q_value</th><th scope=col>significant</th></tr></thead>\n",
       "<tbody>\n",
       "\t<tr><td>0610005C13Rik          </td><td>0610005C13Rik          </td><td>-                      </td><td>chr7:45567794-45589710 </td><td>q1                     </td><td>q2                     </td><td>NOTEST                 </td><td> 0.0725212             </td><td> 0.0442820             </td><td>-0.7116840             </td><td> 0.000000              </td><td>1.00000                </td><td>1.000000               </td><td>no                     </td></tr>\n",
       "\t<tr><td>0610007C21Rik          </td><td>0610007C21Rik          </td><td>-                      </td><td>chr5:31036035-31054623 </td><td>q1                     </td><td>q2                     </td><td>OK                     </td><td>50.2687000             </td><td>47.8496000             </td><td>-0.0711526             </td><td>-0.229939              </td><td>0.71855                </td><td>0.839597               </td><td>no                     </td></tr>\n",
       "\t<tr><td>0610007N19Rik          </td><td>0610007N19Rik          </td><td>-                      </td><td>chr15:32240567-32244662</td><td>q1                     </td><td>q2                     </td><td>NOTEST                 </td><td> 0.2385150             </td><td> 0.0629525             </td><td>-1.9217400             </td><td> 0.000000              </td><td>1.00000                </td><td>1.000000               </td><td>no                     </td></tr>\n",
       "\t<tr><td>0610007P08Rik          </td><td>0610007P08Rik          </td><td>-                      </td><td>chr13:63815319-63900301</td><td>q1                     </td><td>q2                     </td><td>OK                     </td><td> 3.5743600             </td><td> 3.1124300             </td><td>-0.1996430             </td><td>-0.579890              </td><td>0.36160                </td><td>0.542589               </td><td>no                     </td></tr>\n",
       "\t<tr><td>0610007P14Rik          </td><td>0610007P14Rik          </td><td>-                      </td><td>chr12:85815454-85824545</td><td>q1                     </td><td>q2                     </td><td>OK                     </td><td>11.6356000             </td><td>10.5723000             </td><td>-0.1382470             </td><td>-0.474073              </td><td>0.54570                </td><td>0.711416               </td><td>no                     </td></tr>\n",
       "\t<tr><td>0610007P22Rik          </td><td>0610007P22Rik          </td><td>-                      </td><td>chr17:25240169-25256364</td><td>q1                     </td><td>q2                     </td><td>OK                     </td><td> 8.7388000             </td><td> 6.8487500             </td><td>-0.3515960             </td><td>-0.945393              </td><td>0.21480                </td><td>0.380104               </td><td>no                     </td></tr>\n",
       "</tbody>\n",
       "</table>\n"
      ],
      "text/latex": [
       "\\begin{tabular}{r|llllllllllllll}\n",
       " test\\_id & gene\\_id & gene & locus & sample\\_1 & sample\\_2 & status & value\\_1 & value\\_2 & log2(fold\\_change) & test\\_stat & p\\_value & q\\_value & significant\\\\\n",
       "\\hline\n",
       "\t 0610005C13Rik           & 0610005C13Rik           & -                       & chr7:45567794-45589710  & q1                      & q2                      & NOTEST                  &  0.0725212              &  0.0442820              & -0.7116840              &  0.000000               & 1.00000                 & 1.000000                & no                     \\\\\n",
       "\t 0610007C21Rik           & 0610007C21Rik           & -                       & chr5:31036035-31054623  & q1                      & q2                      & OK                      & 50.2687000              & 47.8496000              & -0.0711526              & -0.229939               & 0.71855                 & 0.839597                & no                     \\\\\n",
       "\t 0610007N19Rik           & 0610007N19Rik           & -                       & chr15:32240567-32244662 & q1                      & q2                      & NOTEST                  &  0.2385150              &  0.0629525              & -1.9217400              &  0.000000               & 1.00000                 & 1.000000                & no                     \\\\\n",
       "\t 0610007P08Rik           & 0610007P08Rik           & -                       & chr13:63815319-63900301 & q1                      & q2                      & OK                      &  3.5743600              &  3.1124300              & -0.1996430              & -0.579890               & 0.36160                 & 0.542589                & no                     \\\\\n",
       "\t 0610007P14Rik           & 0610007P14Rik           & -                       & chr12:85815454-85824545 & q1                      & q2                      & OK                      & 11.6356000              & 10.5723000              & -0.1382470              & -0.474073               & 0.54570                 & 0.711416                & no                     \\\\\n",
       "\t 0610007P22Rik           & 0610007P22Rik           & -                       & chr17:25240169-25256364 & q1                      & q2                      & OK                      &  8.7388000              &  6.8487500              & -0.3515960              & -0.945393               & 0.21480                 & 0.380104                & no                     \\\\\n",
       "\\end{tabular}\n"
      ],
      "text/markdown": [
       "\n",
       "test_id | gene_id | gene | locus | sample_1 | sample_2 | status | value_1 | value_2 | log2(fold_change) | test_stat | p_value | q_value | significant | \n",
       "|---|---|---|---|---|---|\n",
       "| 0610005C13Rik           | 0610005C13Rik           | -                       | chr7:45567794-45589710  | q1                      | q2                      | NOTEST                  |  0.0725212              |  0.0442820              | -0.7116840              |  0.000000               | 1.00000                 | 1.000000                | no                      | \n",
       "| 0610007C21Rik           | 0610007C21Rik           | -                       | chr5:31036035-31054623  | q1                      | q2                      | OK                      | 50.2687000              | 47.8496000              | -0.0711526              | -0.229939               | 0.71855                 | 0.839597                | no                      | \n",
       "| 0610007N19Rik           | 0610007N19Rik           | -                       | chr15:32240567-32244662 | q1                      | q2                      | NOTEST                  |  0.2385150              |  0.0629525              | -1.9217400              |  0.000000               | 1.00000                 | 1.000000                | no                      | \n",
       "| 0610007P08Rik           | 0610007P08Rik           | -                       | chr13:63815319-63900301 | q1                      | q2                      | OK                      |  3.5743600              |  3.1124300              | -0.1996430              | -0.579890               | 0.36160                 | 0.542589                | no                      | \n",
       "| 0610007P14Rik           | 0610007P14Rik           | -                       | chr12:85815454-85824545 | q1                      | q2                      | OK                      | 11.6356000              | 10.5723000              | -0.1382470              | -0.474073               | 0.54570                 | 0.711416                | no                      | \n",
       "| 0610007P22Rik           | 0610007P22Rik           | -                       | chr17:25240169-25256364 | q1                      | q2                      | OK                      |  8.7388000              |  6.8487500              | -0.3515960              | -0.945393               | 0.21480                 | 0.380104                | no                      | \n",
       "\n",
       "\n"
      ],
      "text/plain": [
       "  test_id       gene_id       gene locus                   sample_1 sample_2\n",
       "1 0610005C13Rik 0610005C13Rik -    chr7:45567794-45589710  q1       q2      \n",
       "2 0610007C21Rik 0610007C21Rik -    chr5:31036035-31054623  q1       q2      \n",
       "3 0610007N19Rik 0610007N19Rik -    chr15:32240567-32244662 q1       q2      \n",
       "4 0610007P08Rik 0610007P08Rik -    chr13:63815319-63900301 q1       q2      \n",
       "5 0610007P14Rik 0610007P14Rik -    chr12:85815454-85824545 q1       q2      \n",
       "6 0610007P22Rik 0610007P22Rik -    chr17:25240169-25256364 q1       q2      \n",
       "  status value_1    value_2    log2(fold_change) test_stat p_value q_value \n",
       "1 NOTEST  0.0725212  0.0442820 -0.7116840         0.000000 1.00000 1.000000\n",
       "2 OK     50.2687000 47.8496000 -0.0711526        -0.229939 0.71855 0.839597\n",
       "3 NOTEST  0.2385150  0.0629525 -1.9217400         0.000000 1.00000 1.000000\n",
       "4 OK      3.5743600  3.1124300 -0.1996430        -0.579890 0.36160 0.542589\n",
       "5 OK     11.6356000 10.5723000 -0.1382470        -0.474073 0.54570 0.711416\n",
       "6 OK      8.7388000  6.8487500 -0.3515960        -0.945393 0.21480 0.380104\n",
       "  significant\n",
       "1 no         \n",
       "2 no         \n",
       "3 no         \n",
       "4 no         \n",
       "5 no         \n",
       "6 no         "
      ]
     },
     "metadata": {},
     "output_type": "display_data"
    }
   ],
   "source": [
    "# データの頭の部分だけ確認\n",
    "head(deg_macrophage)"
   ]
  },
  {
   "cell_type": "markdown",
   "metadata": {},
   "source": [
    "ふむふむ\n",
    "\n",
    "- 縦に遺伝子名のようなものが並んでいる。各行が遺伝子、各列が変数になっている\n",
    "- `p_value`や`q_value`は発現変動を判定する統計検定の結果だろう\n",
    "- `log2(fold_change)` は `value_2`/`value_1`をlog2変換したものだろう\n",
    "    - ちなみに、`value_1` は正常組織でのマクロファージ、 `value_2` は腫瘍組織内マクロファージ (intratumoral macropahges)でのFPKMの平均値\n",
    "    - これは __メタデータ__ をみないとわからない"
   ]
  },
  {
   "cell_type": "code",
   "execution_count": 6,
   "metadata": {},
   "outputs": [],
   "source": [
    "# 使いたい列だけにする\n",
    "deg_macrophage %<>% select(gene_id, value_1, value_2, `log2(fold_change)`, p_value, q_value)"
   ]
  },
  {
   "cell_type": "code",
   "execution_count": 7,
   "metadata": {},
   "outputs": [
    {
     "data": {
      "text/html": [
       "<table>\n",
       "<thead><tr><th scope=col>gene_id</th><th scope=col>value_1</th><th scope=col>value_2</th><th scope=col>log2(fold_change)</th><th scope=col>p_value</th><th scope=col>q_value</th></tr></thead>\n",
       "<tbody>\n",
       "\t<tr><td>0610005C13Rik</td><td> 0.0725212   </td><td> 0.0442820   </td><td>-0.7116840   </td><td>1.00000      </td><td>1.000000     </td></tr>\n",
       "\t<tr><td>0610007C21Rik</td><td>50.2687000   </td><td>47.8496000   </td><td>-0.0711526   </td><td>0.71855      </td><td>0.839597     </td></tr>\n",
       "\t<tr><td>0610007N19Rik</td><td> 0.2385150   </td><td> 0.0629525   </td><td>-1.9217400   </td><td>1.00000      </td><td>1.000000     </td></tr>\n",
       "\t<tr><td>0610007P08Rik</td><td> 3.5743600   </td><td> 3.1124300   </td><td>-0.1996430   </td><td>0.36160      </td><td>0.542589     </td></tr>\n",
       "\t<tr><td>0610007P14Rik</td><td>11.6356000   </td><td>10.5723000   </td><td>-0.1382470   </td><td>0.54570      </td><td>0.711416     </td></tr>\n",
       "\t<tr><td>0610007P22Rik</td><td> 8.7388000   </td><td> 6.8487500   </td><td>-0.3515960   </td><td>0.21480      </td><td>0.380104     </td></tr>\n",
       "</tbody>\n",
       "</table>\n"
      ],
      "text/latex": [
       "\\begin{tabular}{r|llllll}\n",
       " gene\\_id & value\\_1 & value\\_2 & log2(fold\\_change) & p\\_value & q\\_value\\\\\n",
       "\\hline\n",
       "\t 0610005C13Rik &  0.0725212    &  0.0442820    & -0.7116840    & 1.00000       & 1.000000     \\\\\n",
       "\t 0610007C21Rik & 50.2687000    & 47.8496000    & -0.0711526    & 0.71855       & 0.839597     \\\\\n",
       "\t 0610007N19Rik &  0.2385150    &  0.0629525    & -1.9217400    & 1.00000       & 1.000000     \\\\\n",
       "\t 0610007P08Rik &  3.5743600    &  3.1124300    & -0.1996430    & 0.36160       & 0.542589     \\\\\n",
       "\t 0610007P14Rik & 11.6356000    & 10.5723000    & -0.1382470    & 0.54570       & 0.711416     \\\\\n",
       "\t 0610007P22Rik &  8.7388000    &  6.8487500    & -0.3515960    & 0.21480       & 0.380104     \\\\\n",
       "\\end{tabular}\n"
      ],
      "text/markdown": [
       "\n",
       "gene_id | value_1 | value_2 | log2(fold_change) | p_value | q_value | \n",
       "|---|---|---|---|---|---|\n",
       "| 0610005C13Rik |  0.0725212    |  0.0442820    | -0.7116840    | 1.00000       | 1.000000      | \n",
       "| 0610007C21Rik | 50.2687000    | 47.8496000    | -0.0711526    | 0.71855       | 0.839597      | \n",
       "| 0610007N19Rik |  0.2385150    |  0.0629525    | -1.9217400    | 1.00000       | 1.000000      | \n",
       "| 0610007P08Rik |  3.5743600    |  3.1124300    | -0.1996430    | 0.36160       | 0.542589      | \n",
       "| 0610007P14Rik | 11.6356000    | 10.5723000    | -0.1382470    | 0.54570       | 0.711416      | \n",
       "| 0610007P22Rik |  8.7388000    |  6.8487500    | -0.3515960    | 0.21480       | 0.380104      | \n",
       "\n",
       "\n"
      ],
      "text/plain": [
       "  gene_id       value_1    value_2    log2(fold_change) p_value q_value \n",
       "1 0610005C13Rik  0.0725212  0.0442820 -0.7116840        1.00000 1.000000\n",
       "2 0610007C21Rik 50.2687000 47.8496000 -0.0711526        0.71855 0.839597\n",
       "3 0610007N19Rik  0.2385150  0.0629525 -1.9217400        1.00000 1.000000\n",
       "4 0610007P08Rik  3.5743600  3.1124300 -0.1996430        0.36160 0.542589\n",
       "5 0610007P14Rik 11.6356000 10.5723000 -0.1382470        0.54570 0.711416\n",
       "6 0610007P22Rik  8.7388000  6.8487500 -0.3515960        0.21480 0.380104"
      ]
     },
     "metadata": {},
     "output_type": "display_data"
    }
   ],
   "source": [
    "# データの形が変わったことを確認\n",
    "head(deg_macrophage)"
   ]
  },
  {
   "cell_type": "code",
   "execution_count": 8,
   "metadata": {},
   "outputs": [
    {
     "data": {
      "image/png": "[encoded data removed]",
      "text/plain": [
       "Plot with title “Histogram of deg_macrophage$p_value”"
      ]
     },
     "metadata": {},
     "output_type": "display_data"
    }
   ],
   "source": [
    "# p-valueの分布を確認する\n",
    "hist(deg_macrophage$p_value)"
   ]
  },
  {
   "cell_type": "code",
   "execution_count": 9,
   "metadata": {},
   "outputs": [
    {
     "data": {
      "image/png": "[encoded data removed]",
      "text/plain": [
       "Plot with title “Histogram of deg_macrophage$q_value”"
      ]
     },
     "metadata": {},
     "output_type": "display_data"
    }
   ],
   "source": [
    "# q-valueの分布を確認する\n",
    "hist(deg_macrophage$q_value)"
   ]
  },
  {
   "cell_type": "code",
   "execution_count": 10,
   "metadata": {},
   "outputs": [
    {
     "data": {
      "image/png": "[encoded data removed]",
      "text/plain": [
       "Plot with title “Histogram of deg_macrophage$`log2(fold_change)`”"
      ]
     },
     "metadata": {},
     "output_type": "display_data"
    }
   ],
   "source": [
    "# `log2(fold_change)`の分布を確認する\n",
    "hist(deg_macrophage$`log2(fold_change)`)"
   ]
  },
  {
   "cell_type": "code",
   "execution_count": 11,
   "metadata": {},
   "outputs": [
    {
     "data": {
      "image/png": "[encoded data removed]",
      "text/plain": [
       "plot without title"
      ]
     },
     "metadata": {},
     "output_type": "display_data"
    }
   ],
   "source": [
    "# log2FC と q_valueの関係を眺めてみる (volcano plot)\n",
    "plot(deg_macrophage$`log2(fold_change)`, -log10(deg_macrophage$q_value))"
   ]
  },
  {
   "cell_type": "markdown",
   "metadata": {},
   "source": [
    "## 発現変動遺伝子の数を数える\n",
    "\n",
    "\n",
    "- \"intratumoral macrophages express increased cathepsin K, COX-2, MMP-9, PDGF-B, uPA, VEGFA, and HGF (Wang et al., 2011)\"\n",
    "    - Wang et al., 2011 http://www.sciencedirect.com/science/article/pii/S0169500211002546"
   ]
  },
  {
   "cell_type": "code",
   "execution_count": 12,
   "metadata": {},
   "outputs": [
    {
     "data": {
      "text/html": [
       "2324"
      ],
      "text/latex": [
       "2324"
      ],
      "text/markdown": [
       "2324"
      ],
      "text/plain": [
       "[1] 2324"
      ]
     },
     "metadata": {},
     "output_type": "display_data"
    }
   ],
   "source": [
    "# 腫瘍組織内マクロファージで多い (FC > 1.5, q_value < 0.1) 遺伝子の数は？\n",
    "deg_macrophage %>% filter(`log2(fold_change)` > log2(1.5), q_value < 0.1) %>% nrow"
   ]
  },
  {
   "cell_type": "code",
   "execution_count": 13,
   "metadata": {},
   "outputs": [
    {
     "data": {
      "text/html": [
       "<table>\n",
       "<thead><tr><th scope=col>gene_id</th><th scope=col>value_1</th><th scope=col>value_2</th><th scope=col>log2(fold_change)</th><th scope=col>p_value</th><th scope=col>q_value</th></tr></thead>\n",
       "<tbody>\n",
       "\t<tr><td>Vegfa      </td><td>7.99474    </td><td>167.936    </td><td>4.39272    </td><td>5e-05      </td><td>0.000310039</td></tr>\n",
       "</tbody>\n",
       "</table>\n"
      ],
      "text/latex": [
       "\\begin{tabular}{r|llllll}\n",
       " gene\\_id & value\\_1 & value\\_2 & log2(fold\\_change) & p\\_value & q\\_value\\\\\n",
       "\\hline\n",
       "\t Vegfa       & 7.99474     & 167.936     & 4.39272     & 5e-05       & 0.000310039\\\\\n",
       "\\end{tabular}\n"
      ],
      "text/markdown": [
       "\n",
       "gene_id | value_1 | value_2 | log2(fold_change) | p_value | q_value | \n",
       "|---|\n",
       "| Vegfa       | 7.99474     | 167.936     | 4.39272     | 5e-05       | 0.000310039 | \n",
       "\n",
       "\n"
      ],
      "text/plain": [
       "  gene_id value_1 value_2 log2(fold_change) p_value q_value    \n",
       "1 Vegfa   7.99474 167.936 4.39272           5e-05   0.000310039"
      ]
     },
     "metadata": {},
     "output_type": "display_data"
    },
    {
     "data": {
      "text/html": [
       "<table>\n",
       "<thead><tr><th scope=col>gene_id</th><th scope=col>value_1</th><th scope=col>value_2</th><th scope=col>log2(fold_change)</th><th scope=col>p_value</th><th scope=col>q_value</th></tr></thead>\n",
       "<tbody>\n",
       "\t<tr><td>Mmp9       </td><td>0.0888962  </td><td>6.75021    </td><td>6.24667    </td><td>5e-05      </td><td>0.000310039</td></tr>\n",
       "</tbody>\n",
       "</table>\n"
      ],
      "text/latex": [
       "\\begin{tabular}{r|llllll}\n",
       " gene\\_id & value\\_1 & value\\_2 & log2(fold\\_change) & p\\_value & q\\_value\\\\\n",
       "\\hline\n",
       "\t Mmp9        & 0.0888962   & 6.75021     & 6.24667     & 5e-05       & 0.000310039\\\\\n",
       "\\end{tabular}\n"
      ],
      "text/markdown": [
       "\n",
       "gene_id | value_1 | value_2 | log2(fold_change) | p_value | q_value | \n",
       "|---|\n",
       "| Mmp9        | 0.0888962   | 6.75021     | 6.24667     | 5e-05       | 0.000310039 | \n",
       "\n",
       "\n"
      ],
      "text/plain": [
       "  gene_id value_1   value_2 log2(fold_change) p_value q_value    \n",
       "1 Mmp9    0.0888962 6.75021 6.24667           5e-05   0.000310039"
      ]
     },
     "metadata": {},
     "output_type": "display_data"
    }
   ],
   "source": [
    "# ポジコンがとれるかの確認 (生物学的なQC)\n",
    "deg_macrophage %>% filter(`log2(fold_change)` > log2(1.5), q_value < 0.1) %>% filter(gene_id == \"Vegfa\")\n",
    "deg_macrophage %>% filter(`log2(fold_change)` > log2(1.5), q_value < 0.1) %>% filter(gene_id == \"Mmp9\")"
   ]
  },
  {
   "cell_type": "code",
   "execution_count": 14,
   "metadata": {},
   "outputs": [
    {
     "data": {
      "text/html": [
       "3334"
      ],
      "text/latex": [
       "3334"
      ],
      "text/markdown": [
       "3334"
      ],
      "text/plain": [
       "[1] 3334"
      ]
     },
     "metadata": {},
     "output_type": "display_data"
    }
   ],
   "source": [
    "# 正常組織内マクロファージで多い (FC > 1/1.5, q_value < 0.1) の遺伝子の数は？\n",
    "deg_macrophage %>% filter(`log2(fold_change)` > -log2(1.5), q_value < 0.1) %>% nrow"
   ]
  },
  {
   "cell_type": "markdown",
   "metadata": {},
   "source": [
    "------\n",
    "\n",
    "------\n",
    "\n",
    "------\n",
    "\n",
    "\n",
    "# 本番"
   ]
  },
  {
   "cell_type": "markdown",
   "metadata": {},
   "source": [
    "## 腫瘍組織内間質細胞で発現上昇する遺伝子のリストを得る"
   ]
  },
  {
   "cell_type": "code",
   "execution_count": 15,
   "metadata": {},
   "outputs": [
    {
     "name": "stderr",
     "output_type": "stream",
     "text": [
      "Parsed with column specification:\n",
      "cols(\n",
      "  test_id = col_character(),\n",
      "  gene_id = col_character(),\n",
      "  gene = col_character(),\n",
      "  locus = col_character(),\n",
      "  sample_1 = col_character(),\n",
      "  sample_2 = col_character(),\n",
      "  status = col_character(),\n",
      "  value_1 = col_double(),\n",
      "  value_2 = col_double(),\n",
      "  `log2(fold_change)` = col_double(),\n",
      "  test_stat = col_double(),\n",
      "  p_value = col_double(),\n",
      "  q_value = col_double(),\n",
      "  significant = col_character()\n",
      ")\n"
     ]
    },
    {
     "data": {
      "text/html": [
       "<ol class=list-inline>\n",
       "\t<li>30743</li>\n",
       "\t<li>14</li>\n",
       "</ol>\n"
      ],
      "text/latex": [
       "\\begin{enumerate*}\n",
       "\\item 30743\n",
       "\\item 14\n",
       "\\end{enumerate*}\n"
      ],
      "text/markdown": [
       "1. 30743\n",
       "2. 14\n",
       "\n",
       "\n"
      ],
      "text/plain": [
       "[1] 30743    14"
      ]
     },
     "metadata": {},
     "output_type": "display_data"
    },
    {
     "data": {
      "text/html": [
       "<table>\n",
       "<thead><tr><th scope=col>gene_id</th><th scope=col>value_1</th><th scope=col>value_2</th><th scope=col>log2(fold_change)</th><th scope=col>p_value</th><th scope=col>q_value</th></tr></thead>\n",
       "<tbody>\n",
       "\t<tr><td>0610005C13Rik</td><td> 0.0725212   </td><td> 0.0442820   </td><td>-0.7116840   </td><td>1.00000      </td><td>1.000000     </td></tr>\n",
       "\t<tr><td>0610007C21Rik</td><td>50.2687000   </td><td>47.8496000   </td><td>-0.0711526   </td><td>0.71855      </td><td>0.839597     </td></tr>\n",
       "\t<tr><td>0610007N19Rik</td><td> 0.2385150   </td><td> 0.0629525   </td><td>-1.9217400   </td><td>1.00000      </td><td>1.000000     </td></tr>\n",
       "\t<tr><td>0610007P08Rik</td><td> 3.5743600   </td><td> 3.1124300   </td><td>-0.1996430   </td><td>0.36160      </td><td>0.542589     </td></tr>\n",
       "\t<tr><td>0610007P14Rik</td><td>11.6356000   </td><td>10.5723000   </td><td>-0.1382470   </td><td>0.54570      </td><td>0.711416     </td></tr>\n",
       "\t<tr><td>0610007P22Rik</td><td> 8.7388000   </td><td> 6.8487500   </td><td>-0.3515960   </td><td>0.21480      </td><td>0.380104     </td></tr>\n",
       "</tbody>\n",
       "</table>\n"
      ],
      "text/latex": [
       "\\begin{tabular}{r|llllll}\n",
       " gene\\_id & value\\_1 & value\\_2 & log2(fold\\_change) & p\\_value & q\\_value\\\\\n",
       "\\hline\n",
       "\t 0610005C13Rik &  0.0725212    &  0.0442820    & -0.7116840    & 1.00000       & 1.000000     \\\\\n",
       "\t 0610007C21Rik & 50.2687000    & 47.8496000    & -0.0711526    & 0.71855       & 0.839597     \\\\\n",
       "\t 0610007N19Rik &  0.2385150    &  0.0629525    & -1.9217400    & 1.00000       & 1.000000     \\\\\n",
       "\t 0610007P08Rik &  3.5743600    &  3.1124300    & -0.1996430    & 0.36160       & 0.542589     \\\\\n",
       "\t 0610007P14Rik & 11.6356000    & 10.5723000    & -0.1382470    & 0.54570       & 0.711416     \\\\\n",
       "\t 0610007P22Rik &  8.7388000    &  6.8487500    & -0.3515960    & 0.21480       & 0.380104     \\\\\n",
       "\\end{tabular}\n"
      ],
      "text/markdown": [
       "\n",
       "gene_id | value_1 | value_2 | log2(fold_change) | p_value | q_value | \n",
       "|---|---|---|---|---|---|\n",
       "| 0610005C13Rik |  0.0725212    |  0.0442820    | -0.7116840    | 1.00000       | 1.000000      | \n",
       "| 0610007C21Rik | 50.2687000    | 47.8496000    | -0.0711526    | 0.71855       | 0.839597      | \n",
       "| 0610007N19Rik |  0.2385150    |  0.0629525    | -1.9217400    | 1.00000       | 1.000000      | \n",
       "| 0610007P08Rik |  3.5743600    |  3.1124300    | -0.1996430    | 0.36160       | 0.542589      | \n",
       "| 0610007P14Rik | 11.6356000    | 10.5723000    | -0.1382470    | 0.54570       | 0.711416      | \n",
       "| 0610007P22Rik |  8.7388000    |  6.8487500    | -0.3515960    | 0.21480       | 0.380104      | \n",
       "\n",
       "\n"
      ],
      "text/plain": [
       "  gene_id       value_1    value_2    log2(fold_change) p_value q_value \n",
       "1 0610005C13Rik  0.0725212  0.0442820 -0.7116840        1.00000 1.000000\n",
       "2 0610007C21Rik 50.2687000 47.8496000 -0.0711526        0.71855 0.839597\n",
       "3 0610007N19Rik  0.2385150  0.0629525 -1.9217400        1.00000 1.000000\n",
       "4 0610007P08Rik  3.5743600  3.1124300 -0.1996430        0.36160 0.542589\n",
       "5 0610007P14Rik 11.6356000 10.5723000 -0.1382470        0.54570 0.711416\n",
       "6 0610007P22Rik  8.7388000  6.8487500 -0.3515960        0.21480 0.380104"
      ]
     },
     "metadata": {},
     "output_type": "display_data"
    }
   ],
   "source": [
    "# 例として野生型と腫瘍のマクロファージで発現変動検定をした結果を読み込みます\n",
    "deg_macrophage = read_tsv(\"data/CCCExplorer/CD11CB_output/gene_exp.diff\")\n",
    "\n",
    "# 行数と列数\n",
    "dim(deg_macrophage)\n",
    "\n",
    "# 使いたい列だけにする\n",
    "deg_macrophage %<>% select(gene_id, value_1, value_2, `log2(fold_change)`, p_value, q_value)\n",
    "\n",
    "# データの中身の確認\n",
    "deg_macrophage %>% head"
   ]
  },
  {
   "cell_type": "code",
   "execution_count": 16,
   "metadata": {},
   "outputs": [
    {
     "data": {
      "text/html": [
       "1921"
      ],
      "text/latex": [
       "1921"
      ],
      "text/markdown": [
       "1921"
      ],
      "text/plain": [
       "[1] 1921"
      ]
     },
     "metadata": {},
     "output_type": "display_data"
    }
   ],
   "source": [
    "# とある条件で腫瘍組織内間質細胞で発現上昇する遺伝子をフィルタリング\n",
    "deg_macrophage_tumor = deg_macrophage %>% filter(value_2 > 2 ,`log2(fold_change)` > log2(1.5), q_value < 0.1)\n",
    "\n",
    "# 何行 (何遺伝子)\n",
    "deg_macrophage_tumor %>% nrow"
   ]
  },
  {
   "cell_type": "markdown",
   "metadata": {},
   "source": [
    "## 腫瘍細胞で発現する遺伝子のリストを得る\n"
   ]
  },
  {
   "cell_type": "code",
   "execution_count": 17,
   "metadata": {},
   "outputs": [
    {
     "name": "stderr",
     "output_type": "stream",
     "text": [
      "Parsed with column specification:\n",
      "cols(\n",
      "  tracking_id = col_character(),\n",
      "  condition = col_character(),\n",
      "  replicate = col_integer(),\n",
      "  raw_frags = col_double(),\n",
      "  internal_scaled_frags = col_double(),\n",
      "  external_scaled_frags = col_double(),\n",
      "  FPKM = col_double(),\n",
      "  effective_length = col_character(),\n",
      "  status = col_character()\n",
      ")\n"
     ]
    },
    {
     "data": {
      "text/html": [
       "<ol class=list-inline>\n",
       "\t<li>184458</li>\n",
       "\t<li>9</li>\n",
       "</ol>\n"
      ],
      "text/latex": [
       "\\begin{enumerate*}\n",
       "\\item 184458\n",
       "\\item 9\n",
       "\\end{enumerate*}\n"
      ],
      "text/markdown": [
       "1. 184458\n",
       "2. 9\n",
       "\n",
       "\n"
      ],
      "text/plain": [
       "[1] 184458      9"
      ]
     },
     "metadata": {},
     "output_type": "display_data"
    },
    {
     "data": {
      "text/html": [
       "<table>\n",
       "<thead><tr><th scope=col>tracking_id</th><th scope=col>condition</th><th scope=col>replicate</th><th scope=col>raw_frags</th><th scope=col>internal_scaled_frags</th><th scope=col>external_scaled_frags</th><th scope=col>FPKM</th><th scope=col>effective_length</th><th scope=col>status</th></tr></thead>\n",
       "<tbody>\n",
       "\t<tr><td>0610005C13Rik</td><td>q1           </td><td>1            </td><td>11           </td><td>12.99970     </td><td>12.99970     </td><td>0.499583     </td><td>-            </td><td>OK           </td></tr>\n",
       "\t<tr><td>0610005C13Rik</td><td>q1           </td><td>0            </td><td> 3           </td><td> 4.10373     </td><td> 4.10373     </td><td>0.122142     </td><td>-            </td><td>OK           </td></tr>\n",
       "\t<tr><td>0610005C13Rik</td><td>q1           </td><td>2            </td><td> 0           </td><td> 0.00000     </td><td> 0.00000     </td><td>0.000000     </td><td>-            </td><td>OK           </td></tr>\n",
       "\t<tr><td>0610005C13Rik</td><td>q2           </td><td>1            </td><td>14           </td><td>12.69620     </td><td>12.69620     </td><td>0.377883     </td><td>-            </td><td>OK           </td></tr>\n",
       "\t<tr><td>0610005C13Rik</td><td>q2           </td><td>0            </td><td>12           </td><td> 8.66261     </td><td> 8.66261     </td><td>0.257830     </td><td>-            </td><td>OK           </td></tr>\n",
       "\t<tr><td>0610005C13Rik</td><td>q2           </td><td>2            </td><td>19           </td><td>14.06290     </td><td>14.06290     </td><td>0.418561     </td><td>-            </td><td>OK           </td></tr>\n",
       "</tbody>\n",
       "</table>\n"
      ],
      "text/latex": [
       "\\begin{tabular}{r|lllllllll}\n",
       " tracking\\_id & condition & replicate & raw\\_frags & internal\\_scaled\\_frags & external\\_scaled\\_frags & FPKM & effective\\_length & status\\\\\n",
       "\\hline\n",
       "\t 0610005C13Rik & q1            & 1             & 11            & 12.99970      & 12.99970      & 0.499583      & -             & OK           \\\\\n",
       "\t 0610005C13Rik & q1            & 0             &  3            &  4.10373      &  4.10373      & 0.122142      & -             & OK           \\\\\n",
       "\t 0610005C13Rik & q1            & 2             &  0            &  0.00000      &  0.00000      & 0.000000      & -             & OK           \\\\\n",
       "\t 0610005C13Rik & q2            & 1             & 14            & 12.69620      & 12.69620      & 0.377883      & -             & OK           \\\\\n",
       "\t 0610005C13Rik & q2            & 0             & 12            &  8.66261      &  8.66261      & 0.257830      & -             & OK           \\\\\n",
       "\t 0610005C13Rik & q2            & 2             & 19            & 14.06290      & 14.06290      & 0.418561      & -             & OK           \\\\\n",
       "\\end{tabular}\n"
      ],
      "text/markdown": [
       "\n",
       "tracking_id | condition | replicate | raw_frags | internal_scaled_frags | external_scaled_frags | FPKM | effective_length | status | \n",
       "|---|---|---|---|---|---|\n",
       "| 0610005C13Rik | q1            | 1             | 11            | 12.99970      | 12.99970      | 0.499583      | -             | OK            | \n",
       "| 0610005C13Rik | q1            | 0             |  3            |  4.10373      |  4.10373      | 0.122142      | -             | OK            | \n",
       "| 0610005C13Rik | q1            | 2             |  0            |  0.00000      |  0.00000      | 0.000000      | -             | OK            | \n",
       "| 0610005C13Rik | q2            | 1             | 14            | 12.69620      | 12.69620      | 0.377883      | -             | OK            | \n",
       "| 0610005C13Rik | q2            | 0             | 12            |  8.66261      |  8.66261      | 0.257830      | -             | OK            | \n",
       "| 0610005C13Rik | q2            | 2             | 19            | 14.06290      | 14.06290      | 0.418561      | -             | OK            | \n",
       "\n",
       "\n"
      ],
      "text/plain": [
       "  tracking_id   condition replicate raw_frags internal_scaled_frags\n",
       "1 0610005C13Rik q1        1         11        12.99970             \n",
       "2 0610005C13Rik q1        0          3         4.10373             \n",
       "3 0610005C13Rik q1        2          0         0.00000             \n",
       "4 0610005C13Rik q2        1         14        12.69620             \n",
       "5 0610005C13Rik q2        0         12         8.66261             \n",
       "6 0610005C13Rik q2        2         19        14.06290             \n",
       "  external_scaled_frags FPKM     effective_length status\n",
       "1 12.99970              0.499583 -                OK    \n",
       "2  4.10373              0.122142 -                OK    \n",
       "3  0.00000              0.000000 -                OK    \n",
       "4 12.69620              0.377883 -                OK    \n",
       "5  8.66261              0.257830 -                OK    \n",
       "6 14.06290              0.418561 -                OK    "
      ]
     },
     "metadata": {},
     "output_type": "display_data"
    },
    {
     "data": {
      "text/html": [
       "<table>\n",
       "<thead><tr><th scope=col>tracking_id</th><th scope=col>FPKM</th></tr></thead>\n",
       "<tbody>\n",
       "\t<tr><td>0610005C13Rik</td><td>0.499583     </td></tr>\n",
       "\t<tr><td>0610005C13Rik</td><td>0.122142     </td></tr>\n",
       "\t<tr><td>0610005C13Rik</td><td>0.000000     </td></tr>\n",
       "\t<tr><td>0610005C13Rik</td><td>0.377883     </td></tr>\n",
       "\t<tr><td>0610005C13Rik</td><td>0.257830     </td></tr>\n",
       "\t<tr><td>0610005C13Rik</td><td>0.418561     </td></tr>\n",
       "</tbody>\n",
       "</table>\n"
      ],
      "text/latex": [
       "\\begin{tabular}{r|ll}\n",
       " tracking\\_id & FPKM\\\\\n",
       "\\hline\n",
       "\t 0610005C13Rik & 0.499583     \\\\\n",
       "\t 0610005C13Rik & 0.122142     \\\\\n",
       "\t 0610005C13Rik & 0.000000     \\\\\n",
       "\t 0610005C13Rik & 0.377883     \\\\\n",
       "\t 0610005C13Rik & 0.257830     \\\\\n",
       "\t 0610005C13Rik & 0.418561     \\\\\n",
       "\\end{tabular}\n"
      ],
      "text/markdown": [
       "\n",
       "tracking_id | FPKM | \n",
       "|---|---|---|---|---|---|\n",
       "| 0610005C13Rik | 0.499583      | \n",
       "| 0610005C13Rik | 0.122142      | \n",
       "| 0610005C13Rik | 0.000000      | \n",
       "| 0610005C13Rik | 0.377883      | \n",
       "| 0610005C13Rik | 0.257830      | \n",
       "| 0610005C13Rik | 0.418561      | \n",
       "\n",
       "\n"
      ],
      "text/plain": [
       "  tracking_id   FPKM    \n",
       "1 0610005C13Rik 0.499583\n",
       "2 0610005C13Rik 0.122142\n",
       "3 0610005C13Rik 0.000000\n",
       "4 0610005C13Rik 0.377883\n",
       "5 0610005C13Rik 0.257830\n",
       "6 0610005C13Rik 0.418561"
      ]
     },
     "metadata": {},
     "output_type": "display_data"
    }
   ],
   "source": [
    "# 遺伝子発現量 (FPKM) をまとめた表を読み込む (Cufflinksの出力だとおもう)\n",
    "fpkm_epi = read_tsv(\"data/CCCExplorer/EP_output/genes.read_group_tracking\")\n",
    "\n",
    "# 何行何列か\n",
    "dim(fpkm_epi)\n",
    "\n",
    "# データの最初の数行をみる\n",
    "fpkm_epi %>% head\n",
    "\n",
    "# 必要な列だけにする\n",
    "fpkm_epi %<>% select(tracking_id, FPKM)\n",
    "\n",
    "# 確認\n",
    "fpkm_epi %>% head"
   ]
  },
  {
   "cell_type": "code",
   "execution_count": 18,
   "metadata": {},
   "outputs": [
    {
     "data": {
      "text/html": [
       "72437"
      ],
      "text/latex": [
       "72437"
      ],
      "text/markdown": [
       "72437"
      ],
      "text/plain": [
       "[1] 72437"
      ]
     },
     "metadata": {},
     "output_type": "display_data"
    }
   ],
   "source": [
    "# とある条件で腫瘍細胞で発現する遺伝子をフィルタリング\n",
    "fpkm_epi_tumor = fpkm_epi %>% filter(FPKM > 2)\n",
    "\n",
    "# 何行 (何遺伝子)\n",
    "fpkm_epi_tumor %>% nrow"
   ]
  },
  {
   "cell_type": "markdown",
   "metadata": {},
   "source": [
    "## ヒト-マウスのオーソログ関係の取得\n",
    "\n",
    "`data/CCCExplorer/HOM_MouseHumanSequence.rpt` は Mouse Genome Informatics database から取得されたヒト-マウスオーソログリスト"
   ]
  },
  {
   "cell_type": "code",
   "execution_count": 19,
   "metadata": {
    "scrolled": true
   },
   "outputs": [
    {
     "name": "stderr",
     "output_type": "stream",
     "text": [
      "Parsed with column specification:\n",
      "cols(\n",
      "  `HomoloGene ID` = col_integer(),\n",
      "  `Common Organism Name` = col_character(),\n",
      "  `NCBI Taxon ID` = col_integer(),\n",
      "  Symbol = col_character(),\n",
      "  `EntrezGene ID` = col_integer(),\n",
      "  `Mouse MGI ID` = col_character(),\n",
      "  `HGNC ID` = col_character(),\n",
      "  `OMIM Gene ID` = col_integer(),\n",
      "  `Genetic Location` = col_character(),\n",
      "  `Genomic Coordinates (mouse: GRCm38, human: GRCh37.p10)` = col_character(),\n",
      "  `Nucleotide RefSeq IDs` = col_character(),\n",
      "  `Protein RefSeq IDs` = col_character(),\n",
      "  `SWISS_PROT IDs` = col_character()\n",
      ")\n"
     ]
    },
    {
     "data": {
      "text/html": [
       "<ol class=list-inline>\n",
       "\t<li>39522</li>\n",
       "\t<li>13</li>\n",
       "</ol>\n"
      ],
      "text/latex": [
       "\\begin{enumerate*}\n",
       "\\item 39522\n",
       "\\item 13\n",
       "\\end{enumerate*}\n"
      ],
      "text/markdown": [
       "1. 39522\n",
       "2. 13\n",
       "\n",
       "\n"
      ],
      "text/plain": [
       "[1] 39522    13"
      ]
     },
     "metadata": {},
     "output_type": "display_data"
    },
    {
     "data": {
      "text/html": [
       "<table>\n",
       "<thead><tr><th scope=col>HomoloGene ID</th><th scope=col>Common Organism Name</th><th scope=col>NCBI Taxon ID</th><th scope=col>Symbol</th><th scope=col>EntrezGene ID</th><th scope=col>Mouse MGI ID</th><th scope=col>HGNC ID</th><th scope=col>OMIM Gene ID</th><th scope=col>Genetic Location</th><th scope=col>Genomic Coordinates (mouse: GRCm38, human: GRCh37.p10)</th><th scope=col>Nucleotide RefSeq IDs</th><th scope=col>Protein RefSeq IDs</th><th scope=col>SWISS_PROT IDs</th></tr></thead>\n",
       "<tbody>\n",
       "\t<tr><td>3                                                                         </td><td>mouse, laboratory                                                         </td><td>10090                                                                     </td><td>Acadm                                                                     </td><td> 11364                                                                    </td><td>MGI:87867                                                                 </td><td>NA                                                                        </td><td>    NA                                                                    </td><td>Chr3 78.77 cM                                                             </td><td>Chr3:153922357-153944632(-)                                               </td><td>NM_007382                                                                 </td><td>NP_031408                                                                 </td><td>P45952                                                                    </td></tr>\n",
       "\t<tr><td>3                                                                         </td><td>human                                                                     </td><td> 9606                                                                     </td><td>ACADM                                                                     </td><td>    34                                                                    </td><td>NA                                                                        </td><td>HGNC:89                                                                   </td><td>607008                                                                    </td><td>Chr1 p31                                                                  </td><td>Chr1:76190043-76229355(+)                                                 </td><td>NM_000016,NM_001127328                                                    </td><td>NP_000007,NP_001120800,XP_005270868,XP_005270869,XP_005270870,XP_005270871</td><td>P11310                                                                    </td></tr>\n",
       "\t<tr><td>5                                                                         </td><td>mouse, laboratory                                                         </td><td>10090                                                                     </td><td>Acadvl                                                                    </td><td> 11370                                                                    </td><td>MGI:895149                                                                </td><td>NA                                                                        </td><td>    NA                                                                    </td><td>Chr11 42.96 cM                                                            </td><td>Chr11:70010183-70015411(-)                                                </td><td>NM_017366                                                                 </td><td>NP_059062                                                                 </td><td>P50544                                                                    </td></tr>\n",
       "\t<tr><td>5                                                                         </td><td>human                                                                     </td><td> 9606                                                                     </td><td>ACADVL                                                                    </td><td>    37                                                                    </td><td>NA                                                                        </td><td>HGNC:92                                                                   </td><td>609575                                                                    </td><td>Chr17 p13.1                                                               </td><td>Chr17:7120444-7128586(+)                                                  </td><td>NM_000018,NM_001033859,NM_001270447,NM_001270448                          </td><td>NP_000009,NP_001029031,NP_001257376,NP_001257377                          </td><td>P49748                                                                    </td></tr>\n",
       "\t<tr><td>6                                                                         </td><td>mouse, laboratory                                                         </td><td>10090                                                                     </td><td>Acat1                                                                     </td><td>110446                                                                    </td><td>MGI:87870                                                                 </td><td>NA                                                                        </td><td>    NA                                                                    </td><td>Chr9 29.12 cM                                                             </td><td>Chr9:53580522-53610382(-)                                                 </td><td>NM_144784                                                                 </td><td>NP_659033                                                                 </td><td>Q8QZT1                                                                    </td></tr>\n",
       "\t<tr><td>6                                                                         </td><td>human                                                                     </td><td> 9606                                                                     </td><td>ACAT1                                                                     </td><td>    38                                                                    </td><td>NA                                                                        </td><td>HGNC:93                                                                   </td><td>607809                                                                    </td><td>Chr11 q22.3                                                               </td><td>Chr11:107992258-108018895(+)                                              </td><td>NM_000019                                                                 </td><td>NP_000010                                                                 </td><td>P24752                                                                    </td></tr>\n",
       "</tbody>\n",
       "</table>\n"
      ],
      "text/latex": [
       "\\begin{tabular}{r|lllllllllllll}\n",
       " HomoloGene ID & Common Organism Name & NCBI Taxon ID & Symbol & EntrezGene ID & Mouse MGI ID & HGNC ID & OMIM Gene ID & Genetic Location & Genomic Coordinates (mouse: GRCm38, human: GRCh37.p10) & Nucleotide RefSeq IDs & Protein RefSeq IDs & SWISS\\_PROT IDs\\\\\n",
       "\\hline\n",
       "\t 3                                                                            & mouse, laboratory                                                            & 10090                                                                        & Acadm                                                                        &  11364                                                                       & MGI:87867                                                                    & NA                                                                           &     NA                                                                       & Chr3 78.77 cM                                                                & Chr3:153922357-153944632(-)                                                  & NM\\_007382                                                                  & NP\\_031408                                                                  & P45952                                                                      \\\\\n",
       "\t 3                                                                                      & human                                                                                  &  9606                                                                                  & ACADM                                                                                  &     34                                                                                 & NA                                                                                     & HGNC:89                                                                                & 607008                                                                                 & Chr1 p31                                                                               & Chr1:76190043-76229355(+)                                                              & NM\\_000016,NM\\_001127328                                                             & NP\\_000007,NP\\_001120800,XP\\_005270868,XP\\_005270869,XP\\_005270870,XP\\_005270871 & P11310                                                                                \\\\\n",
       "\t 5                                                                            & mouse, laboratory                                                            & 10090                                                                        & Acadvl                                                                       &  11370                                                                       & MGI:895149                                                                   & NA                                                                           &     NA                                                                       & Chr11 42.96 cM                                                               & Chr11:70010183-70015411(-)                                                   & NM\\_017366                                                                  & NP\\_059062                                                                  & P50544                                                                      \\\\\n",
       "\t 5                                                                                  & human                                                                              &  9606                                                                              & ACADVL                                                                             &     37                                                                             & NA                                                                                 & HGNC:92                                                                            & 609575                                                                             & Chr17 p13.1                                                                        & Chr17:7120444-7128586(+)                                                           & NM\\_000018,NM\\_001033859,NM\\_001270447,NM\\_001270448                           & NP\\_000009,NP\\_001029031,NP\\_001257376,NP\\_001257377                           & P49748                                                                            \\\\\n",
       "\t 6                                                                            & mouse, laboratory                                                            & 10090                                                                        & Acat1                                                                        & 110446                                                                       & MGI:87870                                                                    & NA                                                                           &     NA                                                                       & Chr9 29.12 cM                                                                & Chr9:53580522-53610382(-)                                                    & NM\\_144784                                                                  & NP\\_659033                                                                  & Q8QZT1                                                                      \\\\\n",
       "\t 6                                                                            & human                                                                        &  9606                                                                        & ACAT1                                                                        &     38                                                                       & NA                                                                           & HGNC:93                                                                      & 607809                                                                       & Chr11 q22.3                                                                  & Chr11:107992258-108018895(+)                                                 & NM\\_000019                                                                  & NP\\_000010                                                                  & P24752                                                                      \\\\\n",
       "\\end{tabular}\n"
      ],
      "text/markdown": [
       "\n",
       "HomoloGene ID | Common Organism Name | NCBI Taxon ID | Symbol | EntrezGene ID | Mouse MGI ID | HGNC ID | OMIM Gene ID | Genetic Location | Genomic Coordinates (mouse: GRCm38, human: GRCh37.p10) | Nucleotide RefSeq IDs | Protein RefSeq IDs | SWISS_PROT IDs | \n",
       "|---|---|---|---|---|---|\n",
       "| 3                                                                          | mouse, laboratory                                                          | 10090                                                                      | Acadm                                                                      |  11364                                                                     | MGI:87867                                                                  | NA                                                                         |     NA                                                                     | Chr3 78.77 cM                                                              | Chr3:153922357-153944632(-)                                                | NM_007382                                                                  | NP_031408                                                                  | P45952                                                                     | \n",
       "| 3                                                                          | human                                                                      |  9606                                                                      | ACADM                                                                      |     34                                                                     | NA                                                                         | HGNC:89                                                                    | 607008                                                                     | Chr1 p31                                                                   | Chr1:76190043-76229355(+)                                                  | NM_000016,NM_001127328                                                     | NP_000007,NP_001120800,XP_005270868,XP_005270869,XP_005270870,XP_005270871 | P11310                                                                     | \n",
       "| 5                                                                          | mouse, laboratory                                                          | 10090                                                                      | Acadvl                                                                     |  11370                                                                     | MGI:895149                                                                 | NA                                                                         |     NA                                                                     | Chr11 42.96 cM                                                             | Chr11:70010183-70015411(-)                                                 | NM_017366                                                                  | NP_059062                                                                  | P50544                                                                     | \n",
       "| 5                                                                          | human                                                                      |  9606                                                                      | ACADVL                                                                     |     37                                                                     | NA                                                                         | HGNC:92                                                                    | 609575                                                                     | Chr17 p13.1                                                                | Chr17:7120444-7128586(+)                                                   | NM_000018,NM_001033859,NM_001270447,NM_001270448                           | NP_000009,NP_001029031,NP_001257376,NP_001257377                           | P49748                                                                     | \n",
       "| 6                                                                          | mouse, laboratory                                                          | 10090                                                                      | Acat1                                                                      | 110446                                                                     | MGI:87870                                                                  | NA                                                                         |     NA                                                                     | Chr9 29.12 cM                                                              | Chr9:53580522-53610382(-)                                                  | NM_144784                                                                  | NP_659033                                                                  | Q8QZT1                                                                     | \n",
       "| 6                                                                          | human                                                                      |  9606                                                                      | ACAT1                                                                      |     38                                                                     | NA                                                                         | HGNC:93                                                                    | 607809                                                                     | Chr11 q22.3                                                                | Chr11:107992258-108018895(+)                                               | NM_000019                                                                  | NP_000010                                                                  | P24752                                                                     | \n",
       "\n",
       "\n"
      ],
      "text/plain": [
       "  HomoloGene ID Common Organism Name NCBI Taxon ID Symbol EntrezGene ID\n",
       "1 3             mouse, laboratory    10090         Acadm   11364       \n",
       "2 3             human                 9606         ACADM      34       \n",
       "3 5             mouse, laboratory    10090         Acadvl  11370       \n",
       "4 5             human                 9606         ACADVL     37       \n",
       "5 6             mouse, laboratory    10090         Acat1  110446       \n",
       "6 6             human                 9606         ACAT1      38       \n",
       "  Mouse MGI ID HGNC ID OMIM Gene ID Genetic Location\n",
       "1 MGI:87867    NA          NA       Chr3 78.77 cM   \n",
       "2 NA           HGNC:89 607008       Chr1 p31        \n",
       "3 MGI:895149   NA          NA       Chr11 42.96 cM  \n",
       "4 NA           HGNC:92 609575       Chr17 p13.1     \n",
       "5 MGI:87870    NA          NA       Chr9 29.12 cM   \n",
       "6 NA           HGNC:93 607809       Chr11 q22.3     \n",
       "  Genomic Coordinates (mouse: GRCm38, human: GRCh37.p10)\n",
       "1 Chr3:153922357-153944632(-)                           \n",
       "2 Chr1:76190043-76229355(+)                             \n",
       "3 Chr11:70010183-70015411(-)                            \n",
       "4 Chr17:7120444-7128586(+)                              \n",
       "5 Chr9:53580522-53610382(-)                             \n",
       "6 Chr11:107992258-108018895(+)                          \n",
       "  Nucleotide RefSeq IDs                           \n",
       "1 NM_007382                                       \n",
       "2 NM_000016,NM_001127328                          \n",
       "3 NM_017366                                       \n",
       "4 NM_000018,NM_001033859,NM_001270447,NM_001270448\n",
       "5 NM_144784                                       \n",
       "6 NM_000019                                       \n",
       "  Protein RefSeq IDs                                                        \n",
       "1 NP_031408                                                                 \n",
       "2 NP_000007,NP_001120800,XP_005270868,XP_005270869,XP_005270870,XP_005270871\n",
       "3 NP_059062                                                                 \n",
       "4 NP_000009,NP_001029031,NP_001257376,NP_001257377                          \n",
       "5 NP_659033                                                                 \n",
       "6 NP_000010                                                                 \n",
       "  SWISS_PROT IDs\n",
       "1 P45952        \n",
       "2 P11310        \n",
       "3 P50544        \n",
       "4 P49748        \n",
       "5 Q8QZT1        \n",
       "6 P24752        "
      ]
     },
     "metadata": {},
     "output_type": "display_data"
    }
   ],
   "source": [
    "# データの読み込み\n",
    "dfhom = read_tsv(\"data/CCCExplorer/HOM_MouseHumanSequence.rpt\")\n",
    "\n",
    "# 何行何列\n",
    "dim(dfhom)\n",
    "\n",
    "# データの頭をみる\n",
    "head(dfhom)"
   ]
  },
  {
   "cell_type": "code",
   "execution_count": 20,
   "metadata": {},
   "outputs": [
    {
     "data": {
      "text/html": [
       "<table>\n",
       "<thead><tr><th scope=col>HomoloGene ID</th><th scope=col>Symbol</th><th scope=col>Common Organism Name</th></tr></thead>\n",
       "<tbody>\n",
       "\t<tr><td>3                </td><td>Acadm            </td><td>mouse, laboratory</td></tr>\n",
       "\t<tr><td>3                </td><td>ACADM            </td><td>human            </td></tr>\n",
       "\t<tr><td>5                </td><td>Acadvl           </td><td>mouse, laboratory</td></tr>\n",
       "\t<tr><td>5                </td><td>ACADVL           </td><td>human            </td></tr>\n",
       "\t<tr><td>6                </td><td>Acat1            </td><td>mouse, laboratory</td></tr>\n",
       "\t<tr><td>6                </td><td>ACAT1            </td><td>human            </td></tr>\n",
       "</tbody>\n",
       "</table>\n"
      ],
      "text/latex": [
       "\\begin{tabular}{r|lll}\n",
       " HomoloGene ID & Symbol & Common Organism Name\\\\\n",
       "\\hline\n",
       "\t 3                 & Acadm             & mouse, laboratory\\\\\n",
       "\t 3                 & ACADM             & human            \\\\\n",
       "\t 5                 & Acadvl            & mouse, laboratory\\\\\n",
       "\t 5                 & ACADVL            & human            \\\\\n",
       "\t 6                 & Acat1             & mouse, laboratory\\\\\n",
       "\t 6                 & ACAT1             & human            \\\\\n",
       "\\end{tabular}\n"
      ],
      "text/markdown": [
       "\n",
       "HomoloGene ID | Symbol | Common Organism Name | \n",
       "|---|---|---|---|---|---|\n",
       "| 3                 | Acadm             | mouse, laboratory | \n",
       "| 3                 | ACADM             | human             | \n",
       "| 5                 | Acadvl            | mouse, laboratory | \n",
       "| 5                 | ACADVL            | human             | \n",
       "| 6                 | Acat1             | mouse, laboratory | \n",
       "| 6                 | ACAT1             | human             | \n",
       "\n",
       "\n"
      ],
      "text/plain": [
       "  HomoloGene ID Symbol Common Organism Name\n",
       "1 3             Acadm  mouse, laboratory   \n",
       "2 3             ACADM  human               \n",
       "3 5             Acadvl mouse, laboratory   \n",
       "4 5             ACADVL human               \n",
       "5 6             Acat1  mouse, laboratory   \n",
       "6 6             ACAT1  human               "
      ]
     },
     "metadata": {},
     "output_type": "display_data"
    }
   ],
   "source": [
    "# 関係ありそうなところだけにする\n",
    "dfhom %<>% select(`HomoloGene ID`, Symbol, `Common Organism Name`)\n",
    "\n",
    "# 確認\n",
    "dfhom %>% head"
   ]
  },
  {
   "cell_type": "markdown",
   "metadata": {},
   "source": [
    "実は上の表は 1対1オーソログだけでなく、1対多オーソログも含まれていたので、ちょっと面倒です。\n",
    "このような場合、1対1オーソログのみに絞ることもありますし、全部残す場合もあります。ケースバイケース。\n",
    "\n",
    "いずれにせよ、上の形では扱いづらいので、ヒトとマウスのオーソログの対応が1行ごとに並んだ形にしましょう。"
   ]
  },
  {
   "cell_type": "code",
   "execution_count": 21,
   "metadata": {},
   "outputs": [
    {
     "data": {
      "text/html": [
       "<ol class=list-inline>\n",
       "\t<li>22894</li>\n",
       "\t<li>3</li>\n",
       "</ol>\n"
      ],
      "text/latex": [
       "\\begin{enumerate*}\n",
       "\\item 22894\n",
       "\\item 3\n",
       "\\end{enumerate*}\n"
      ],
      "text/markdown": [
       "1. 22894\n",
       "2. 3\n",
       "\n",
       "\n"
      ],
      "text/plain": [
       "[1] 22894     3"
      ]
     },
     "metadata": {},
     "output_type": "display_data"
    },
    {
     "data": {
      "text/html": [
       "<table>\n",
       "<thead><tr><th scope=col>HomoloGene ID</th><th scope=col>mouse</th><th scope=col>human</th></tr></thead>\n",
       "<tbody>\n",
       "\t<tr><td> 3    </td><td>Acadm </td><td>ACADM </td></tr>\n",
       "\t<tr><td> 5    </td><td>Acadvl</td><td>ACADVL</td></tr>\n",
       "\t<tr><td> 6    </td><td>Acat1 </td><td>ACAT1 </td></tr>\n",
       "\t<tr><td> 7    </td><td>Acvr1 </td><td>ACVR1 </td></tr>\n",
       "\t<tr><td> 9    </td><td>Sgca  </td><td>SGCA  </td></tr>\n",
       "\t<tr><td>12    </td><td>Adsl  </td><td>ADSL  </td></tr>\n",
       "</tbody>\n",
       "</table>\n"
      ],
      "text/latex": [
       "\\begin{tabular}{r|lll}\n",
       " HomoloGene ID & mouse & human\\\\\n",
       "\\hline\n",
       "\t  3     & Acadm  & ACADM \\\\\n",
       "\t  5     & Acadvl & ACADVL\\\\\n",
       "\t  6     & Acat1  & ACAT1 \\\\\n",
       "\t  7     & Acvr1  & ACVR1 \\\\\n",
       "\t  9     & Sgca   & SGCA  \\\\\n",
       "\t 12     & Adsl   & ADSL  \\\\\n",
       "\\end{tabular}\n"
      ],
      "text/markdown": [
       "\n",
       "HomoloGene ID | mouse | human | \n",
       "|---|---|---|---|---|---|\n",
       "|  3     | Acadm  | ACADM  | \n",
       "|  5     | Acadvl | ACADVL | \n",
       "|  6     | Acat1  | ACAT1  | \n",
       "|  7     | Acvr1  | ACVR1  | \n",
       "|  9     | Sgca   | SGCA   | \n",
       "| 12     | Adsl   | ADSL   | \n",
       "\n",
       "\n"
      ],
      "text/plain": [
       "  HomoloGene ID mouse  human \n",
       "1  3            Acadm  ACADM \n",
       "2  5            Acadvl ACADVL\n",
       "3  6            Acat1  ACAT1 \n",
       "4  7            Acvr1  ACVR1 \n",
       "5  9            Sgca   SGCA  \n",
       "6 12            Adsl   ADSL  "
      ]
     },
     "metadata": {},
     "output_type": "display_data"
    }
   ],
   "source": [
    "# マウスの行とヒトの表をそれぞれ抜き出し、 `full_join` で joinしている\n",
    "dfhom2 = full_join(\n",
    "    dfhom %>%\n",
    "        filter(`Common Organism Name` == \"mouse, laboratory\") %>%\n",
    "        select(-`Common Organism Name`),\n",
    "    dfhom %>% \n",
    "        filter(`Common Organism Name` == \"human\") %>%\n",
    "        select(-`Common Organism Name`),\n",
    "    by = \"HomoloGene ID\"\n",
    ")\n",
    "\n",
    "# 列名を変更する\n",
    "dfhom2 %<>% dplyr::rename(mouse=Symbol.x, human=Symbol.y)\n",
    "\n",
    "# 何行何列\n",
    "dfhom2 %>% dim\n",
    "\n",
    "# データの頭\n",
    "dfhom2 %>% head"
   ]
  },
  {
   "cell_type": "markdown",
   "metadata": {},
   "source": [
    "## リガンド-受容体関係のデータ\n",
    "\n",
    "（実は`From` がリガンドで、 `To` が受容体）"
   ]
  },
  {
   "cell_type": "code",
   "execution_count": 22,
   "metadata": {},
   "outputs": [
    {
     "name": "stderr",
     "output_type": "stream",
     "text": [
      "Parsed with column specification:\n",
      "cols(\n",
      "  From = col_character(),\n",
      "  To = col_character()\n",
      ")\n"
     ]
    },
    {
     "data": {
      "text/html": [
       "<ol class=list-inline>\n",
       "\t<li>1427</li>\n",
       "\t<li>2</li>\n",
       "</ol>\n"
      ],
      "text/latex": [
       "\\begin{enumerate*}\n",
       "\\item 1427\n",
       "\\item 2\n",
       "\\end{enumerate*}\n"
      ],
      "text/markdown": [
       "1. 1427\n",
       "2. 2\n",
       "\n",
       "\n"
      ],
      "text/plain": [
       "[1] 1427    2"
      ]
     },
     "metadata": {},
     "output_type": "display_data"
    },
    {
     "data": {
      "text/html": [
       "<table>\n",
       "<thead><tr><th scope=col>From</th><th scope=col>To</th></tr></thead>\n",
       "<tbody>\n",
       "\t<tr><td>CCK   </td><td>CCKAR </td></tr>\n",
       "\t<tr><td>GAST  </td><td>CCKBR </td></tr>\n",
       "\t<tr><td>GRP   </td><td>GRPR  </td></tr>\n",
       "\t<tr><td>IL17F </td><td>IL17RA</td></tr>\n",
       "\t<tr><td>NTN1  </td><td>DSCAM </td></tr>\n",
       "\t<tr><td>SEMA3A</td><td>PLXNA1</td></tr>\n",
       "</tbody>\n",
       "</table>\n"
      ],
      "text/latex": [
       "\\begin{tabular}{r|ll}\n",
       " From & To\\\\\n",
       "\\hline\n",
       "\t CCK    & CCKAR \\\\\n",
       "\t GAST   & CCKBR \\\\\n",
       "\t GRP    & GRPR  \\\\\n",
       "\t IL17F  & IL17RA\\\\\n",
       "\t NTN1   & DSCAM \\\\\n",
       "\t SEMA3A & PLXNA1\\\\\n",
       "\\end{tabular}\n"
      ],
      "text/markdown": [
       "\n",
       "From | To | \n",
       "|---|---|---|---|---|---|\n",
       "| CCK    | CCKAR  | \n",
       "| GAST   | CCKBR  | \n",
       "| GRP    | GRPR   | \n",
       "| IL17F  | IL17RA | \n",
       "| NTN1   | DSCAM  | \n",
       "| SEMA3A | PLXNA1 | \n",
       "\n",
       "\n"
      ],
      "text/plain": [
       "  From   To    \n",
       "1 CCK    CCKAR \n",
       "2 GAST   CCKBR \n",
       "3 GRP    GRPR  \n",
       "4 IL17F  IL17RA\n",
       "5 NTN1   DSCAM \n",
       "6 SEMA3A PLXNA1"
      ]
     },
     "metadata": {},
     "output_type": "display_data"
    }
   ],
   "source": [
    "# 読み込み\n",
    "dflr = read_tsv(\"data/CCCExplorer/LR_manual_revised.txt\")\n",
    "\n",
    "# 何行何列\n",
    "dflr %>% dim\n",
    "\n",
    "# 頭\n",
    "dflr %>% head"
   ]
  },
  {
   "cell_type": "markdown",
   "metadata": {},
   "source": [
    "## 遺伝子のリストとヒト-マウスオーソログの表を結合する\n",
    "\n",
    "遺伝子のリストとヒト-マウスオーソログの表を結合することで、マウスの遺伝子リストであってもヒトの遺伝子に関するデータベースの情報と照合することができるようになります。\n",
    "\n",
    "そのために、JOIN をします。JOINは２つの表x, yそれぞれの列を比較し、x,yを結合した新しい表を作る操作です。\n",
    "\n",
    "比較する列をキーと呼びます。表 x, y のキーがユニークで同一であれば単に横に連結すればいいですが、実際には、xもしくはyまたは両方で足りない/余分なキーがある場合があり、そのような場合にどう処理するかによって、JOINに様々な種類があります。\n",
    "\n",
    "- join について https://qiita.com/matsuou1/items/b1bd9778610e3a586e71"
   ]
  },
  {
   "cell_type": "code",
   "execution_count": 23,
   "metadata": {},
   "outputs": [
    {
     "data": {
      "text/html": [
       "<table>\n",
       "<thead><tr><th scope=col>gene_id</th><th scope=col>value_1</th><th scope=col>value_2</th><th scope=col>log2(fold_change)</th><th scope=col>p_value</th><th scope=col>q_value</th><th scope=col>HomoloGene ID</th><th scope=col>human</th></tr></thead>\n",
       "<tbody>\n",
       "\t<tr><td>0610010O12Rik</td><td> 4.19646     </td><td>  8.98632    </td><td>1.098560     </td><td>0.00095      </td><td>0.004437260  </td><td>   NA        </td><td>NA           </td></tr>\n",
       "\t<tr><td>0610031J06Rik</td><td>95.85410     </td><td>144.76100    </td><td>0.594760     </td><td>0.00020      </td><td>0.001113440  </td><td>10562        </td><td>C1orf85      </td></tr>\n",
       "\t<tr><td>0610040J01Rik</td><td> 1.49871     </td><td>  3.08289    </td><td>1.040560     </td><td>0.00420      </td><td>0.016218300  </td><td>49537        </td><td>C4orf19      </td></tr>\n",
       "\t<tr><td>1110002B05Rik</td><td>39.23150     </td><td> 69.53890    </td><td>0.825809     </td><td>0.00005      </td><td>0.000310039  </td><td>   NA        </td><td>NA           </td></tr>\n",
       "\t<tr><td>1110003E01Rik</td><td>20.49960     </td><td> 34.26780    </td><td>0.741253     </td><td>0.00005      </td><td>0.000310039  </td><td>   NA        </td><td>NA           </td></tr>\n",
       "\t<tr><td>1110007C09Rik</td><td>22.56080     </td><td> 77.52120    </td><td>1.780770     </td><td>0.00005      </td><td>0.000310039  </td><td>12269        </td><td>C9orf89      </td></tr>\n",
       "</tbody>\n",
       "</table>\n"
      ],
      "text/latex": [
       "\\begin{tabular}{r|llllllll}\n",
       " gene\\_id & value\\_1 & value\\_2 & log2(fold\\_change) & p\\_value & q\\_value & HomoloGene ID & human\\\\\n",
       "\\hline\n",
       "\t 0610010O12Rik &  4.19646      &   8.98632     & 1.098560      & 0.00095       & 0.004437260   &    NA         & NA           \\\\\n",
       "\t 0610031J06Rik & 95.85410      & 144.76100     & 0.594760      & 0.00020       & 0.001113440   & 10562         & C1orf85      \\\\\n",
       "\t 0610040J01Rik &  1.49871      &   3.08289     & 1.040560      & 0.00420       & 0.016218300   & 49537         & C4orf19      \\\\\n",
       "\t 1110002B05Rik & 39.23150      &  69.53890     & 0.825809      & 0.00005       & 0.000310039   &    NA         & NA           \\\\\n",
       "\t 1110003E01Rik & 20.49960      &  34.26780     & 0.741253      & 0.00005       & 0.000310039   &    NA         & NA           \\\\\n",
       "\t 1110007C09Rik & 22.56080      &  77.52120     & 1.780770      & 0.00005       & 0.000310039   & 12269         & C9orf89      \\\\\n",
       "\\end{tabular}\n"
      ],
      "text/markdown": [
       "\n",
       "gene_id | value_1 | value_2 | log2(fold_change) | p_value | q_value | HomoloGene ID | human | \n",
       "|---|---|---|---|---|---|\n",
       "| 0610010O12Rik |  4.19646      |   8.98632     | 1.098560      | 0.00095       | 0.004437260   |    NA         | NA            | \n",
       "| 0610031J06Rik | 95.85410      | 144.76100     | 0.594760      | 0.00020       | 0.001113440   | 10562         | C1orf85       | \n",
       "| 0610040J01Rik |  1.49871      |   3.08289     | 1.040560      | 0.00420       | 0.016218300   | 49537         | C4orf19       | \n",
       "| 1110002B05Rik | 39.23150      |  69.53890     | 0.825809      | 0.00005       | 0.000310039   |    NA         | NA            | \n",
       "| 1110003E01Rik | 20.49960      |  34.26780     | 0.741253      | 0.00005       | 0.000310039   |    NA         | NA            | \n",
       "| 1110007C09Rik | 22.56080      |  77.52120     | 1.780770      | 0.00005       | 0.000310039   | 12269         | C9orf89       | \n",
       "\n",
       "\n"
      ],
      "text/plain": [
       "  gene_id       value_1  value_2   log2(fold_change) p_value q_value    \n",
       "1 0610010O12Rik  4.19646   8.98632 1.098560          0.00095 0.004437260\n",
       "2 0610031J06Rik 95.85410 144.76100 0.594760          0.00020 0.001113440\n",
       "3 0610040J01Rik  1.49871   3.08289 1.040560          0.00420 0.016218300\n",
       "4 1110002B05Rik 39.23150  69.53890 0.825809          0.00005 0.000310039\n",
       "5 1110003E01Rik 20.49960  34.26780 0.741253          0.00005 0.000310039\n",
       "6 1110007C09Rik 22.56080  77.52120 1.780770          0.00005 0.000310039\n",
       "  HomoloGene ID human  \n",
       "1    NA         NA     \n",
       "2 10562         C1orf85\n",
       "3 49537         C4orf19\n",
       "4    NA         NA     \n",
       "5    NA         NA     \n",
       "6 12269         C9orf89"
      ]
     },
     "metadata": {},
     "output_type": "display_data"
    },
    {
     "data": {
      "text/html": [
       "<table>\n",
       "<thead><tr><th scope=col>gene_id</th><th scope=col>value_1</th><th scope=col>value_2</th><th scope=col>log2(fold_change)</th><th scope=col>p_value</th><th scope=col>q_value</th><th scope=col>HomoloGene ID</th><th scope=col>human</th></tr></thead>\n",
       "<tbody>\n",
       "\t<tr><td>0610031J06Rik</td><td>95.854100    </td><td>144.76100    </td><td>0.594760     </td><td>0.00020      </td><td>0.001113440  </td><td>10562        </td><td>C1orf85      </td></tr>\n",
       "\t<tr><td>0610040J01Rik</td><td> 1.498710    </td><td>  3.08289    </td><td>1.040560     </td><td>0.00420      </td><td>0.016218300  </td><td>49537        </td><td>C4orf19      </td></tr>\n",
       "\t<tr><td>1110007C09Rik</td><td>22.560800    </td><td> 77.52120    </td><td>1.780770     </td><td>0.00005      </td><td>0.000310039  </td><td>12269        </td><td>C9orf89      </td></tr>\n",
       "\t<tr><td>1700025G04Rik</td><td> 1.123720    </td><td>  2.19438    </td><td>0.965534     </td><td>0.00350      </td><td>0.013889500  </td><td>12776        </td><td>C1orf21      </td></tr>\n",
       "\t<tr><td>1700026D08Rik</td><td> 0.584625    </td><td>  4.63796    </td><td>2.987910     </td><td>0.00005      </td><td>0.000310039  </td><td>12605        </td><td>C15orf26     </td></tr>\n",
       "\t<tr><td>1810043G02Rik</td><td> 7.011670    </td><td> 12.39670    </td><td>0.822125     </td><td>0.00250      </td><td>0.010369000  </td><td> 3619        </td><td>C21orf2      </td></tr>\n",
       "</tbody>\n",
       "</table>\n"
      ],
      "text/latex": [
       "\\begin{tabular}{r|llllllll}\n",
       " gene\\_id & value\\_1 & value\\_2 & log2(fold\\_change) & p\\_value & q\\_value & HomoloGene ID & human\\\\\n",
       "\\hline\n",
       "\t 0610031J06Rik & 95.854100     & 144.76100     & 0.594760      & 0.00020       & 0.001113440   & 10562         & C1orf85      \\\\\n",
       "\t 0610040J01Rik &  1.498710     &   3.08289     & 1.040560      & 0.00420       & 0.016218300   & 49537         & C4orf19      \\\\\n",
       "\t 1110007C09Rik & 22.560800     &  77.52120     & 1.780770      & 0.00005       & 0.000310039   & 12269         & C9orf89      \\\\\n",
       "\t 1700025G04Rik &  1.123720     &   2.19438     & 0.965534      & 0.00350       & 0.013889500   & 12776         & C1orf21      \\\\\n",
       "\t 1700026D08Rik &  0.584625     &   4.63796     & 2.987910      & 0.00005       & 0.000310039   & 12605         & C15orf26     \\\\\n",
       "\t 1810043G02Rik &  7.011670     &  12.39670     & 0.822125      & 0.00250       & 0.010369000   &  3619         & C21orf2      \\\\\n",
       "\\end{tabular}\n"
      ],
      "text/markdown": [
       "\n",
       "gene_id | value_1 | value_2 | log2(fold_change) | p_value | q_value | HomoloGene ID | human | \n",
       "|---|---|---|---|---|---|\n",
       "| 0610031J06Rik | 95.854100     | 144.76100     | 0.594760      | 0.00020       | 0.001113440   | 10562         | C1orf85       | \n",
       "| 0610040J01Rik |  1.498710     |   3.08289     | 1.040560      | 0.00420       | 0.016218300   | 49537         | C4orf19       | \n",
       "| 1110007C09Rik | 22.560800     |  77.52120     | 1.780770      | 0.00005       | 0.000310039   | 12269         | C9orf89       | \n",
       "| 1700025G04Rik |  1.123720     |   2.19438     | 0.965534      | 0.00350       | 0.013889500   | 12776         | C1orf21       | \n",
       "| 1700026D08Rik |  0.584625     |   4.63796     | 2.987910      | 0.00005       | 0.000310039   | 12605         | C15orf26      | \n",
       "| 1810043G02Rik |  7.011670     |  12.39670     | 0.822125      | 0.00250       | 0.010369000   |  3619         | C21orf2       | \n",
       "\n",
       "\n"
      ],
      "text/plain": [
       "  gene_id       value_1   value_2   log2(fold_change) p_value q_value    \n",
       "1 0610031J06Rik 95.854100 144.76100 0.594760          0.00020 0.001113440\n",
       "2 0610040J01Rik  1.498710   3.08289 1.040560          0.00420 0.016218300\n",
       "3 1110007C09Rik 22.560800  77.52120 1.780770          0.00005 0.000310039\n",
       "4 1700025G04Rik  1.123720   2.19438 0.965534          0.00350 0.013889500\n",
       "5 1700026D08Rik  0.584625   4.63796 2.987910          0.00005 0.000310039\n",
       "6 1810043G02Rik  7.011670  12.39670 0.822125          0.00250 0.010369000\n",
       "  HomoloGene ID human   \n",
       "1 10562         C1orf85 \n",
       "2 49537         C4orf19 \n",
       "3 12269         C9orf89 \n",
       "4 12776         C1orf21 \n",
       "5 12605         C15orf26\n",
       "6  3619         C21orf2 "
      ]
     },
     "metadata": {},
     "output_type": "display_data"
    }
   ],
   "source": [
    "# ヒト-マウスオーソログ関係の表と遺伝子リスト表を結合する\n",
    "## `left_join` は一番目の表（データフレーム) の\b行は全部残して、JOINを行う\n",
    "deg_macrophage_tumor_human = left_join(deg_macrophage_tumor, dfhom2, by=c(\"gene_id\" = \"mouse\"))\n",
    "\n",
    "# head\n",
    "## deg_macrophage_tumor にあっても dfhom2 になかった列では、 `HomoloGene ID`やhumanが欠損値 (NA) になっている\n",
    "deg_macrophage_tumor_human %>% head\n",
    "\n",
    "# human が NA でないの行だけにする\n",
    "deg_macrophage_tumor_human　%<>% filter(!is.na(human))\n",
    "\n",
    "deg_macrophage_tumor_human %>% head"
   ]
  },
  {
   "cell_type": "code",
   "execution_count": 24,
   "metadata": {},
   "outputs": [
    {
     "data": {
      "text/html": [
       "<table>\n",
       "<thead><tr><th scope=col>tracking_id</th><th scope=col>FPKM</th><th scope=col>HomoloGene ID</th><th scope=col>human</th></tr></thead>\n",
       "<tbody>\n",
       "\t<tr><td>0610007C21Rik</td><td>46.5889      </td><td>NA           </td><td>NA           </td></tr>\n",
       "\t<tr><td>0610007C21Rik</td><td>63.4719      </td><td>NA           </td><td>NA           </td></tr>\n",
       "\t<tr><td>0610007C21Rik</td><td>80.0110      </td><td>NA           </td><td>NA           </td></tr>\n",
       "\t<tr><td>0610007C21Rik</td><td>59.6297      </td><td>NA           </td><td>NA           </td></tr>\n",
       "\t<tr><td>0610007C21Rik</td><td>49.4234      </td><td>NA           </td><td>NA           </td></tr>\n",
       "\t<tr><td>0610007C21Rik</td><td>51.7633      </td><td>NA           </td><td>NA           </td></tr>\n",
       "</tbody>\n",
       "</table>\n"
      ],
      "text/latex": [
       "\\begin{tabular}{r|llll}\n",
       " tracking\\_id & FPKM & HomoloGene ID & human\\\\\n",
       "\\hline\n",
       "\t 0610007C21Rik & 46.5889       & NA            & NA           \\\\\n",
       "\t 0610007C21Rik & 63.4719       & NA            & NA           \\\\\n",
       "\t 0610007C21Rik & 80.0110       & NA            & NA           \\\\\n",
       "\t 0610007C21Rik & 59.6297       & NA            & NA           \\\\\n",
       "\t 0610007C21Rik & 49.4234       & NA            & NA           \\\\\n",
       "\t 0610007C21Rik & 51.7633       & NA            & NA           \\\\\n",
       "\\end{tabular}\n"
      ],
      "text/markdown": [
       "\n",
       "tracking_id | FPKM | HomoloGene ID | human | \n",
       "|---|---|---|---|---|---|\n",
       "| 0610007C21Rik | 46.5889       | NA            | NA            | \n",
       "| 0610007C21Rik | 63.4719       | NA            | NA            | \n",
       "| 0610007C21Rik | 80.0110       | NA            | NA            | \n",
       "| 0610007C21Rik | 59.6297       | NA            | NA            | \n",
       "| 0610007C21Rik | 49.4234       | NA            | NA            | \n",
       "| 0610007C21Rik | 51.7633       | NA            | NA            | \n",
       "\n",
       "\n"
      ],
      "text/plain": [
       "  tracking_id   FPKM    HomoloGene ID human\n",
       "1 0610007C21Rik 46.5889 NA            NA   \n",
       "2 0610007C21Rik 63.4719 NA            NA   \n",
       "3 0610007C21Rik 80.0110 NA            NA   \n",
       "4 0610007C21Rik 59.6297 NA            NA   \n",
       "5 0610007C21Rik 49.4234 NA            NA   \n",
       "6 0610007C21Rik 51.7633 NA            NA   "
      ]
     },
     "metadata": {},
     "output_type": "display_data"
    },
    {
     "data": {
      "text/html": [
       "<ol class=list-inline>\n",
       "\t<li>62264</li>\n",
       "\t<li>4</li>\n",
       "</ol>\n"
      ],
      "text/latex": [
       "\\begin{enumerate*}\n",
       "\\item 62264\n",
       "\\item 4\n",
       "\\end{enumerate*}\n"
      ],
      "text/markdown": [
       "1. 62264\n",
       "2. 4\n",
       "\n",
       "\n"
      ],
      "text/plain": [
       "[1] 62264     4"
      ]
     },
     "metadata": {},
     "output_type": "display_data"
    },
    {
     "data": {
      "text/html": [
       "<table>\n",
       "<thead><tr><th scope=col>tracking_id</th><th scope=col>FPKM</th><th scope=col>HomoloGene ID</th><th scope=col>human</th></tr></thead>\n",
       "<tbody>\n",
       "\t<tr><td>0610007P14Rik</td><td>23.5014      </td><td>38284        </td><td>C14orf1      </td></tr>\n",
       "\t<tr><td>0610007P14Rik</td><td>33.9843      </td><td>38284        </td><td>C14orf1      </td></tr>\n",
       "\t<tr><td>0610007P14Rik</td><td>24.8046      </td><td>38284        </td><td>C14orf1      </td></tr>\n",
       "\t<tr><td>0610007P14Rik</td><td>25.0812      </td><td>38284        </td><td>C14orf1      </td></tr>\n",
       "\t<tr><td>0610007P14Rik</td><td>21.5133      </td><td>38284        </td><td>C14orf1      </td></tr>\n",
       "\t<tr><td>0610007P14Rik</td><td>21.9958      </td><td>38284        </td><td>C14orf1      </td></tr>\n",
       "</tbody>\n",
       "</table>\n"
      ],
      "text/latex": [
       "\\begin{tabular}{r|llll}\n",
       " tracking\\_id & FPKM & HomoloGene ID & human\\\\\n",
       "\\hline\n",
       "\t 0610007P14Rik & 23.5014       & 38284         & C14orf1      \\\\\n",
       "\t 0610007P14Rik & 33.9843       & 38284         & C14orf1      \\\\\n",
       "\t 0610007P14Rik & 24.8046       & 38284         & C14orf1      \\\\\n",
       "\t 0610007P14Rik & 25.0812       & 38284         & C14orf1      \\\\\n",
       "\t 0610007P14Rik & 21.5133       & 38284         & C14orf1      \\\\\n",
       "\t 0610007P14Rik & 21.9958       & 38284         & C14orf1      \\\\\n",
       "\\end{tabular}\n"
      ],
      "text/markdown": [
       "\n",
       "tracking_id | FPKM | HomoloGene ID | human | \n",
       "|---|---|---|---|---|---|\n",
       "| 0610007P14Rik | 23.5014       | 38284         | C14orf1       | \n",
       "| 0610007P14Rik | 33.9843       | 38284         | C14orf1       | \n",
       "| 0610007P14Rik | 24.8046       | 38284         | C14orf1       | \n",
       "| 0610007P14Rik | 25.0812       | 38284         | C14orf1       | \n",
       "| 0610007P14Rik | 21.5133       | 38284         | C14orf1       | \n",
       "| 0610007P14Rik | 21.9958       | 38284         | C14orf1       | \n",
       "\n",
       "\n"
      ],
      "text/plain": [
       "  tracking_id   FPKM    HomoloGene ID human  \n",
       "1 0610007P14Rik 23.5014 38284         C14orf1\n",
       "2 0610007P14Rik 33.9843 38284         C14orf1\n",
       "3 0610007P14Rik 24.8046 38284         C14orf1\n",
       "4 0610007P14Rik 25.0812 38284         C14orf1\n",
       "5 0610007P14Rik 21.5133 38284         C14orf1\n",
       "6 0610007P14Rik 21.9958 38284         C14orf1"
      ]
     },
     "metadata": {},
     "output_type": "display_data"
    }
   ],
   "source": [
    "# ヒト-マウスオーソログ関係の表と遺伝子リスト表を結合する\n",
    "fpkm_epi_tumor_human = left_join(fpkm_epi_tumor, dfhom2, by=c(\"tracking_id\" = \"mouse\"))\n",
    "\n",
    "# head\n",
    "fpkm_epi_tumor_human %>% head\n",
    "\n",
    "# human が NA でないの行だけにする\n",
    "fpkm_epi_tumor_human　%<>% filter(!is.na(human))\n",
    "\n",
    "# 何行何列\n",
    "fpkm_epi_tumor_human %>% dim\n",
    "\n",
    "fpkm_epi_tumor_human　%>% head"
   ]
  },
  {
   "cell_type": "markdown",
   "metadata": {},
   "source": [
    "## リガンド-受容体関係の情報に発現/発現変動遺伝子の情報を加える\n",
    "\n",
    "`A %in% B` はAの各要素がBに含まれるかをTRUE/FALSEのベクトルで返す関数です。"
   ]
  },
  {
   "cell_type": "code",
   "execution_count": 25,
   "metadata": {},
   "outputs": [
    {
     "data": {
      "text/html": [
       "<table>\n",
       "<thead><tr><th scope=col>From</th><th scope=col>To</th><th scope=col>ligand_up_in_tumor_macrophage</th></tr></thead>\n",
       "<tbody>\n",
       "\t<tr><td>CCK   </td><td>CCKAR </td><td>FALSE </td></tr>\n",
       "\t<tr><td>GAST  </td><td>CCKBR </td><td>FALSE </td></tr>\n",
       "\t<tr><td>GRP   </td><td>GRPR  </td><td>FALSE </td></tr>\n",
       "\t<tr><td>IL17F </td><td>IL17RA</td><td>FALSE </td></tr>\n",
       "\t<tr><td>NTN1  </td><td>DSCAM </td><td>FALSE </td></tr>\n",
       "\t<tr><td>SEMA3A</td><td>PLXNA1</td><td>FALSE </td></tr>\n",
       "</tbody>\n",
       "</table>\n"
      ],
      "text/latex": [
       "\\begin{tabular}{r|lll}\n",
       " From & To & ligand\\_up\\_in\\_tumor\\_macrophage\\\\\n",
       "\\hline\n",
       "\t CCK    & CCKAR  & FALSE \\\\\n",
       "\t GAST   & CCKBR  & FALSE \\\\\n",
       "\t GRP    & GRPR   & FALSE \\\\\n",
       "\t IL17F  & IL17RA & FALSE \\\\\n",
       "\t NTN1   & DSCAM  & FALSE \\\\\n",
       "\t SEMA3A & PLXNA1 & FALSE \\\\\n",
       "\\end{tabular}\n"
      ],
      "text/markdown": [
       "\n",
       "From | To | ligand_up_in_tumor_macrophage | \n",
       "|---|---|---|---|---|---|\n",
       "| CCK    | CCKAR  | FALSE  | \n",
       "| GAST   | CCKBR  | FALSE  | \n",
       "| GRP    | GRPR   | FALSE  | \n",
       "| IL17F  | IL17RA | FALSE  | \n",
       "| NTN1   | DSCAM  | FALSE  | \n",
       "| SEMA3A | PLXNA1 | FALSE  | \n",
       "\n",
       "\n"
      ],
      "text/plain": [
       "  From   To     ligand_up_in_tumor_macrophage\n",
       "1 CCK    CCKAR  FALSE                        \n",
       "2 GAST   CCKBR  FALSE                        \n",
       "3 GRP    GRPR   FALSE                        \n",
       "4 IL17F  IL17RA FALSE                        \n",
       "5 NTN1   DSCAM  FALSE                        \n",
       "6 SEMA3A PLXNA1 FALSE                        "
      ]
     },
     "metadata": {},
     "output_type": "display_data"
    },
    {
     "data": {
      "text/html": [
       "<table>\n",
       "<thead><tr><th scope=col>ligand_up_in_tumor_macrophage</th><th scope=col>n</th></tr></thead>\n",
       "<tbody>\n",
       "\t<tr><td>FALSE</td><td>1255 </td></tr>\n",
       "\t<tr><td> TRUE</td><td> 172 </td></tr>\n",
       "</tbody>\n",
       "</table>\n"
      ],
      "text/latex": [
       "\\begin{tabular}{r|ll}\n",
       " ligand\\_up\\_in\\_tumor\\_macrophage & n\\\\\n",
       "\\hline\n",
       "\t FALSE & 1255 \\\\\n",
       "\t  TRUE &  172 \\\\\n",
       "\\end{tabular}\n"
      ],
      "text/markdown": [
       "\n",
       "ligand_up_in_tumor_macrophage | n | \n",
       "|---|---|\n",
       "| FALSE | 1255  | \n",
       "|  TRUE |  172  | \n",
       "\n",
       "\n"
      ],
      "text/plain": [
       "  ligand_up_in_tumor_macrophage n   \n",
       "1 FALSE                         1255\n",
       "2  TRUE                          172"
      ]
     },
     "metadata": {},
     "output_type": "display_data"
    }
   ],
   "source": [
    "# ligand_up_in_tumor_macrophage という列を追加する。deg_macrophage_tumor_human に リガンドが含まれるならばTRUE、そうでないならばFALSSEとなる\n",
    "## \n",
    "dflr %<>% mutate(ligand_up_in_tumor_macrophage = From %in% deg_macrophage_tumor_human$human)\n",
    "\n",
    "# head\n",
    "dflr %>% head\n",
    "\n",
    "# ligand_up_in_tumor_macrophage の数を集計\n",
    "dflr %>% group_by(ligand_up_in_tumor_macrophage) %>% summarise(n = n())"
   ]
  },
  {
   "cell_type": "code",
   "execution_count": 26,
   "metadata": {},
   "outputs": [
    {
     "data": {
      "text/html": [
       "<table>\n",
       "<thead><tr><th scope=col>From</th><th scope=col>To</th><th scope=col>ligand_up_in_tumor_macrophage</th><th scope=col>receptor_expressed_in_tumor_macrophage</th></tr></thead>\n",
       "<tbody>\n",
       "\t<tr><td>CCK   </td><td>CCKAR </td><td>FALSE </td><td> TRUE </td></tr>\n",
       "\t<tr><td>GAST  </td><td>CCKBR </td><td>FALSE </td><td>FALSE </td></tr>\n",
       "\t<tr><td>GRP   </td><td>GRPR  </td><td>FALSE </td><td>FALSE </td></tr>\n",
       "\t<tr><td>IL17F </td><td>IL17RA</td><td>FALSE </td><td> TRUE </td></tr>\n",
       "\t<tr><td>NTN1  </td><td>DSCAM </td><td>FALSE </td><td>FALSE </td></tr>\n",
       "\t<tr><td>SEMA3A</td><td>PLXNA1</td><td>FALSE </td><td> TRUE </td></tr>\n",
       "</tbody>\n",
       "</table>\n"
      ],
      "text/latex": [
       "\\begin{tabular}{r|llll}\n",
       " From & To & ligand\\_up\\_in\\_tumor\\_macrophage & receptor\\_expressed\\_in\\_tumor\\_macrophage\\\\\n",
       "\\hline\n",
       "\t CCK    & CCKAR  & FALSE  &  TRUE \\\\\n",
       "\t GAST   & CCKBR  & FALSE  & FALSE \\\\\n",
       "\t GRP    & GRPR   & FALSE  & FALSE \\\\\n",
       "\t IL17F  & IL17RA & FALSE  &  TRUE \\\\\n",
       "\t NTN1   & DSCAM  & FALSE  & FALSE \\\\\n",
       "\t SEMA3A & PLXNA1 & FALSE  &  TRUE \\\\\n",
       "\\end{tabular}\n"
      ],
      "text/markdown": [
       "\n",
       "From | To | ligand_up_in_tumor_macrophage | receptor_expressed_in_tumor_macrophage | \n",
       "|---|---|---|---|---|---|\n",
       "| CCK    | CCKAR  | FALSE  |  TRUE  | \n",
       "| GAST   | CCKBR  | FALSE  | FALSE  | \n",
       "| GRP    | GRPR   | FALSE  | FALSE  | \n",
       "| IL17F  | IL17RA | FALSE  |  TRUE  | \n",
       "| NTN1   | DSCAM  | FALSE  | FALSE  | \n",
       "| SEMA3A | PLXNA1 | FALSE  |  TRUE  | \n",
       "\n",
       "\n"
      ],
      "text/plain": [
       "  From   To     ligand_up_in_tumor_macrophage\n",
       "1 CCK    CCKAR  FALSE                        \n",
       "2 GAST   CCKBR  FALSE                        \n",
       "3 GRP    GRPR   FALSE                        \n",
       "4 IL17F  IL17RA FALSE                        \n",
       "5 NTN1   DSCAM  FALSE                        \n",
       "6 SEMA3A PLXNA1 FALSE                        \n",
       "  receptor_expressed_in_tumor_macrophage\n",
       "1  TRUE                                 \n",
       "2 FALSE                                 \n",
       "3 FALSE                                 \n",
       "4  TRUE                                 \n",
       "5 FALSE                                 \n",
       "6  TRUE                                 "
      ]
     },
     "metadata": {},
     "output_type": "display_data"
    },
    {
     "data": {
      "text/html": [
       "<table>\n",
       "<thead><tr><th scope=col>receptor_expressed_in_tumor_macrophage</th><th scope=col>n</th></tr></thead>\n",
       "<tbody>\n",
       "\t<tr><td>FALSE</td><td> 426 </td></tr>\n",
       "\t<tr><td> TRUE</td><td>1001 </td></tr>\n",
       "</tbody>\n",
       "</table>\n"
      ],
      "text/latex": [
       "\\begin{tabular}{r|ll}\n",
       " receptor\\_expressed\\_in\\_tumor\\_macrophage & n\\\\\n",
       "\\hline\n",
       "\t FALSE &  426 \\\\\n",
       "\t  TRUE & 1001 \\\\\n",
       "\\end{tabular}\n"
      ],
      "text/markdown": [
       "\n",
       "receptor_expressed_in_tumor_macrophage | n | \n",
       "|---|---|\n",
       "| FALSE |  426  | \n",
       "|  TRUE | 1001  | \n",
       "\n",
       "\n"
      ],
      "text/plain": [
       "  receptor_expressed_in_tumor_macrophage n   \n",
       "1 FALSE                                   426\n",
       "2  TRUE                                  1001"
      ]
     },
     "metadata": {},
     "output_type": "display_data"
    }
   ],
   "source": [
    "# receptor_expressed_in_tumor_macrophage という列を追加する。fpkm_epi_tumor_human に 受容体が含まれるならばTRUE、そうでないならばFALSSEとなる\n",
    "## \n",
    "dflr %<>% mutate(receptor_expressed_in_tumor_macrophage = To %in% fpkm_epi_tumor_human$human)\n",
    "\n",
    "# head\n",
    "dflr %>% head\n",
    "\n",
    "# receptor_expressed_in_tumor_macrophage の数を集計\n",
    "dflr %>% group_by(receptor_expressed_in_tumor_macrophage) %>% summarise(n = n())"
   ]
  },
  {
   "cell_type": "code",
   "execution_count": 27,
   "metadata": {},
   "outputs": [
    {
     "data": {
      "text/html": [
       "<ol class=list-inline>\n",
       "\t<li>129</li>\n",
       "\t<li>4</li>\n",
       "</ol>\n"
      ],
      "text/latex": [
       "\\begin{enumerate*}\n",
       "\\item 129\n",
       "\\item 4\n",
       "\\end{enumerate*}\n"
      ],
      "text/markdown": [
       "1. 129\n",
       "2. 4\n",
       "\n",
       "\n"
      ],
      "text/plain": [
       "[1] 129   4"
      ]
     },
     "metadata": {},
     "output_type": "display_data"
    },
    {
     "data": {
      "text/html": [
       "<table>\n",
       "<thead><tr><th scope=col>From</th><th scope=col>To</th><th scope=col>ligand_up_in_tumor_macrophage</th><th scope=col>receptor_expressed_in_tumor_macrophage</th></tr></thead>\n",
       "<tbody>\n",
       "\t<tr><td>B2M  </td><td>HFE  </td><td>TRUE </td><td>TRUE </td></tr>\n",
       "\t<tr><td>C3   </td><td>ITGB2</td><td>TRUE </td><td>TRUE </td></tr>\n",
       "\t<tr><td>C3   </td><td>ITGAX</td><td>TRUE </td><td>TRUE </td></tr>\n",
       "\t<tr><td>CREG1</td><td>IGF2R</td><td>TRUE </td><td>TRUE </td></tr>\n",
       "\t<tr><td>GAS6 </td><td>TYRO3</td><td>TRUE </td><td>TRUE </td></tr>\n",
       "\t<tr><td>GAS6 </td><td>AXL  </td><td>TRUE </td><td>TRUE </td></tr>\n",
       "</tbody>\n",
       "</table>\n"
      ],
      "text/latex": [
       "\\begin{tabular}{r|llll}\n",
       " From & To & ligand\\_up\\_in\\_tumor\\_macrophage & receptor\\_expressed\\_in\\_tumor\\_macrophage\\\\\n",
       "\\hline\n",
       "\t B2M   & HFE   & TRUE  & TRUE \\\\\n",
       "\t C3    & ITGB2 & TRUE  & TRUE \\\\\n",
       "\t C3    & ITGAX & TRUE  & TRUE \\\\\n",
       "\t CREG1 & IGF2R & TRUE  & TRUE \\\\\n",
       "\t GAS6  & TYRO3 & TRUE  & TRUE \\\\\n",
       "\t GAS6  & AXL   & TRUE  & TRUE \\\\\n",
       "\\end{tabular}\n"
      ],
      "text/markdown": [
       "\n",
       "From | To | ligand_up_in_tumor_macrophage | receptor_expressed_in_tumor_macrophage | \n",
       "|---|---|---|---|---|---|\n",
       "| B2M   | HFE   | TRUE  | TRUE  | \n",
       "| C3    | ITGB2 | TRUE  | TRUE  | \n",
       "| C3    | ITGAX | TRUE  | TRUE  | \n",
       "| CREG1 | IGF2R | TRUE  | TRUE  | \n",
       "| GAS6  | TYRO3 | TRUE  | TRUE  | \n",
       "| GAS6  | AXL   | TRUE  | TRUE  | \n",
       "\n",
       "\n"
      ],
      "text/plain": [
       "  From  To    ligand_up_in_tumor_macrophage\n",
       "1 B2M   HFE   TRUE                         \n",
       "2 C3    ITGB2 TRUE                         \n",
       "3 C3    ITGAX TRUE                         \n",
       "4 CREG1 IGF2R TRUE                         \n",
       "5 GAS6  TYRO3 TRUE                         \n",
       "6 GAS6  AXL   TRUE                         \n",
       "  receptor_expressed_in_tumor_macrophage\n",
       "1 TRUE                                  \n",
       "2 TRUE                                  \n",
       "3 TRUE                                  \n",
       "4 TRUE                                  \n",
       "5 TRUE                                  \n",
       "6 TRUE                                  "
      ]
     },
     "metadata": {},
     "output_type": "display_data"
    }
   ],
   "source": [
    "# `ligand_up_in_tumor_macrophage` と  `receptor_expressed_in_tumor_macrophage` が両方TRUEである行を探す\n",
    "dflr_pair = dflr %>% filter(ligand_up_in_tumor_macrophage == TRUE, receptor_expressed_in_tumor_macrophage == TRUE)\n",
    "\n",
    "# dim\n",
    "dflr_pair %>% dim\n",
    "\n",
    "# head\n",
    "dflr_pair %>% head"
   ]
  },
  {
   "cell_type": "markdown",
   "metadata": {},
   "source": [
    "先行研究で、腫瘍組織内マクロファージで発現上昇が見られるリガンドも入っていた\n",
    "\n",
    "- \"intratumoral macrophages express increased cathepsin K, COX-2, MMP-9, PDGF-B, uPA, VEGFA, and HGF (Wang et al., 2011)\"\n",
    "    - Wang et al., 2011 http://www.sciencedirect.com/science/article/pii/S0169500211002546"
   ]
  },
  {
   "cell_type": "code",
   "execution_count": 28,
   "metadata": {},
   "outputs": [
    {
     "data": {
      "text/html": [
       "<table>\n",
       "<thead><tr><th scope=col>From</th><th scope=col>To</th><th scope=col>ligand_up_in_tumor_macrophage</th><th scope=col>receptor_expressed_in_tumor_macrophage</th></tr></thead>\n",
       "<tbody>\n",
       "\t<tr><td>HGF </td><td>MET </td><td>TRUE</td><td>TRUE</td></tr>\n",
       "</tbody>\n",
       "</table>\n"
      ],
      "text/latex": [
       "\\begin{tabular}{r|llll}\n",
       " From & To & ligand\\_up\\_in\\_tumor\\_macrophage & receptor\\_expressed\\_in\\_tumor\\_macrophage\\\\\n",
       "\\hline\n",
       "\t HGF  & MET  & TRUE & TRUE\\\\\n",
       "\\end{tabular}\n"
      ],
      "text/markdown": [
       "\n",
       "From | To | ligand_up_in_tumor_macrophage | receptor_expressed_in_tumor_macrophage | \n",
       "|---|\n",
       "| HGF  | MET  | TRUE | TRUE | \n",
       "\n",
       "\n"
      ],
      "text/plain": [
       "  From To  ligand_up_in_tumor_macrophage receptor_expressed_in_tumor_macrophage\n",
       "1 HGF  MET TRUE                          TRUE                                  "
      ]
     },
     "metadata": {},
     "output_type": "display_data"
    }
   ],
   "source": [
    "dflr_pair %>% filter(From == \"HGF\")"
   ]
  },
  {
   "cell_type": "markdown",
   "metadata": {},
   "source": [
    "## とりたいものがとれてきているか可視化して確認\n",
    "\n",
    "GEOのFPKMの発現量行列を用いて、上の方法でとってきたリガンドレセプターのペアが本当に\n",
    "\n",
    "- 腫瘍組織内マクロファージで多いリガンドか？\n",
    "- 腫瘍細胞で発現している受容体か？\n",
    "\n",
    "ということを確かめました。\n",
    "\n",
    "GEOのデータはあらかじめダウンロードしておきました。\n",
    "\n",
    "GEOのページのメタデータをみないとわからないのですが、Tum1, Tum2, Tum3 が腫瘍組織内マクロファージ、WT1, WT2が野生型組織でのマクロファージ、Tum9, Tum10, Tum11が腫瘍細胞です。"
   ]
  },
  {
   "cell_type": "code",
   "execution_count": 29,
   "metadata": {},
   "outputs": [
    {
     "name": "stderr",
     "output_type": "stream",
     "text": [
      "Parsed with column specification:\n",
      "cols(\n",
      "  .default = col_double(),\n",
      "  mice_gene_symbol = col_character(),\n",
      "  human_gene_symbol = col_character()\n",
      ")\n",
      "See spec(...) for full column specifications.\n"
     ]
    },
    {
     "data": {
      "text/html": [
       "<ol class=list-inline>\n",
       "\t<li>16024</li>\n",
       "\t<li>29</li>\n",
       "</ol>\n"
      ],
      "text/latex": [
       "\\begin{enumerate*}\n",
       "\\item 16024\n",
       "\\item 29\n",
       "\\end{enumerate*}\n"
      ],
      "text/markdown": [
       "1. 16024\n",
       "2. 29\n",
       "\n",
       "\n"
      ],
      "text/plain": [
       "[1] 16024    29"
      ]
     },
     "metadata": {},
     "output_type": "display_data"
    },
    {
     "data": {
      "text/html": [
       "<table>\n",
       "<thead><tr><th scope=col>mice_gene_symbol</th><th scope=col>human_gene_symbol</th><th scope=col>Tum1</th><th scope=col>Tum2</th><th scope=col>Tum3</th><th scope=col>WT1</th><th scope=col>WT2</th><th scope=col>Tum4</th><th scope=col>Tum5</th><th scope=col>WT3</th><th scope=col>⋯</th><th scope=col>Tum11</th><th scope=col>WT8</th><th scope=col>WT9</th><th scope=col>WT10</th><th scope=col>Tum12</th><th scope=col>Tum13</th><th scope=col>Tum14</th><th scope=col>WT11</th><th scope=col>WT12</th><th scope=col>WT13</th></tr></thead>\n",
       "<tbody>\n",
       "\t<tr><td>0610007P14Rik</td><td>C14orf1      </td><td> 9.31368     </td><td>10.13680     </td><td>12.26660     </td><td>11.92950     </td><td>11.34170     </td><td>10.45680     </td><td>10.44590     </td><td>13.05840     </td><td>⋯            </td><td>21.99580     </td><td>33.98430     </td><td>23.50140     </td><td>24.80460     </td><td>17.16570     </td><td>12.51170     </td><td>16.03630     </td><td>14.69160     </td><td>14.03290     </td><td>14.20440     </td></tr>\n",
       "\t<tr><td>0610009D07Rik</td><td>SF3B14       </td><td>25.35280     </td><td>32.25990     </td><td>26.61000     </td><td>29.73440     </td><td>37.16520     </td><td>37.57330     </td><td>30.74340     </td><td>32.30680     </td><td>⋯            </td><td>28.76030     </td><td>21.51540     </td><td>30.83840     </td><td>19.26180     </td><td>35.14690     </td><td>33.53620     </td><td>42.73760     </td><td>29.27860     </td><td>29.37960     </td><td>28.06600     </td></tr>\n",
       "\t<tr><td>0610009O20Rik</td><td>KIAA0141     </td><td>12.45760     </td><td>10.17690     </td><td>11.95220     </td><td>10.62740     </td><td> 7.04763     </td><td> 9.63765     </td><td>11.11900     </td><td>13.35890     </td><td>⋯            </td><td>20.57930     </td><td>18.12230     </td><td>18.65090     </td><td>18.58170     </td><td>15.60410     </td><td>15.34920     </td><td>13.04400     </td><td>16.76130     </td><td>15.91300     </td><td>18.05510     </td></tr>\n",
       "\t<tr><td>0610010F05Rik</td><td>KIAA1841     </td><td> 5.84091     </td><td> 6.54488     </td><td> 6.65366     </td><td> 4.80074     </td><td> 6.06263     </td><td> 5.57042     </td><td> 5.21223     </td><td> 5.56449     </td><td>⋯            </td><td> 8.04684     </td><td> 5.92199     </td><td> 6.23551     </td><td> 4.73364     </td><td> 5.98708     </td><td> 4.26902     </td><td> 4.16373     </td><td> 3.47511     </td><td> 3.71875     </td><td> 3.95344     </td></tr>\n",
       "\t<tr><td>0610010K14Rik</td><td>C17orf49     </td><td>25.63690     </td><td>24.08560     </td><td>20.17560     </td><td>25.34280     </td><td>29.14040     </td><td>31.46110     </td><td>28.30990     </td><td>22.17650     </td><td>⋯            </td><td>18.00200     </td><td>24.00260     </td><td>21.85860     </td><td>23.72630     </td><td>28.46520     </td><td>31.19330     </td><td>26.40880     </td><td>32.53430     </td><td>26.93620     </td><td>29.38080     </td></tr>\n",
       "\t<tr><td>0610011F06Rik</td><td>C16orf13     </td><td> 3.48174     </td><td> 5.79169     </td><td> 3.73809     </td><td> 5.94575     </td><td> 5.98899     </td><td> 9.04125     </td><td> 5.84235     </td><td> 7.36357     </td><td>⋯            </td><td>42.61460     </td><td>38.91730     </td><td>33.56900     </td><td>37.34490     </td><td>20.33750     </td><td>18.81900     </td><td>14.17990     </td><td>14.93870     </td><td>16.12340     </td><td>13.39220     </td></tr>\n",
       "</tbody>\n",
       "</table>\n"
      ],
      "text/latex": [
       "\\begin{tabular}{r|lllllllllllllllllllllllllllll}\n",
       " mice\\_gene\\_symbol & human\\_gene\\_symbol & Tum1 & Tum2 & Tum3 & WT1 & WT2 & Tum4 & Tum5 & WT3 & ⋯ & Tum11 & WT8 & WT9 & WT10 & Tum12 & Tum13 & Tum14 & WT11 & WT12 & WT13\\\\\n",
       "\\hline\n",
       "\t 0610007P14Rik & C14orf1       &  9.31368      & 10.13680      & 12.26660      & 11.92950      & 11.34170      & 10.45680      & 10.44590      & 13.05840      & ⋯             & 21.99580      & 33.98430      & 23.50140      & 24.80460      & 17.16570      & 12.51170      & 16.03630      & 14.69160      & 14.03290      & 14.20440     \\\\\n",
       "\t 0610009D07Rik & SF3B14        & 25.35280      & 32.25990      & 26.61000      & 29.73440      & 37.16520      & 37.57330      & 30.74340      & 32.30680      & ⋯             & 28.76030      & 21.51540      & 30.83840      & 19.26180      & 35.14690      & 33.53620      & 42.73760      & 29.27860      & 29.37960      & 28.06600     \\\\\n",
       "\t 0610009O20Rik & KIAA0141      & 12.45760      & 10.17690      & 11.95220      & 10.62740      &  7.04763      &  9.63765      & 11.11900      & 13.35890      & ⋯             & 20.57930      & 18.12230      & 18.65090      & 18.58170      & 15.60410      & 15.34920      & 13.04400      & 16.76130      & 15.91300      & 18.05510     \\\\\n",
       "\t 0610010F05Rik & KIAA1841      &  5.84091      &  6.54488      &  6.65366      &  4.80074      &  6.06263      &  5.57042      &  5.21223      &  5.56449      & ⋯             &  8.04684      &  5.92199      &  6.23551      &  4.73364      &  5.98708      &  4.26902      &  4.16373      &  3.47511      &  3.71875      &  3.95344     \\\\\n",
       "\t 0610010K14Rik & C17orf49      & 25.63690      & 24.08560      & 20.17560      & 25.34280      & 29.14040      & 31.46110      & 28.30990      & 22.17650      & ⋯             & 18.00200      & 24.00260      & 21.85860      & 23.72630      & 28.46520      & 31.19330      & 26.40880      & 32.53430      & 26.93620      & 29.38080     \\\\\n",
       "\t 0610011F06Rik & C16orf13      &  3.48174      &  5.79169      &  3.73809      &  5.94575      &  5.98899      &  9.04125      &  5.84235      &  7.36357      & ⋯             & 42.61460      & 38.91730      & 33.56900      & 37.34490      & 20.33750      & 18.81900      & 14.17990      & 14.93870      & 16.12340      & 13.39220     \\\\\n",
       "\\end{tabular}\n"
      ],
      "text/markdown": [
       "\n",
       "mice_gene_symbol | human_gene_symbol | Tum1 | Tum2 | Tum3 | WT1 | WT2 | Tum4 | Tum5 | WT3 | ⋯ | Tum11 | WT8 | WT9 | WT10 | Tum12 | Tum13 | Tum14 | WT11 | WT12 | WT13 | \n",
       "|---|---|---|---|---|---|\n",
       "| 0610007P14Rik | C14orf1       |  9.31368      | 10.13680      | 12.26660      | 11.92950      | 11.34170      | 10.45680      | 10.44590      | 13.05840      | ⋯             | 21.99580      | 33.98430      | 23.50140      | 24.80460      | 17.16570      | 12.51170      | 16.03630      | 14.69160      | 14.03290      | 14.20440      | \n",
       "| 0610009D07Rik | SF3B14        | 25.35280      | 32.25990      | 26.61000      | 29.73440      | 37.16520      | 37.57330      | 30.74340      | 32.30680      | ⋯             | 28.76030      | 21.51540      | 30.83840      | 19.26180      | 35.14690      | 33.53620      | 42.73760      | 29.27860      | 29.37960      | 28.06600      | \n",
       "| 0610009O20Rik | KIAA0141      | 12.45760      | 10.17690      | 11.95220      | 10.62740      |  7.04763      |  9.63765      | 11.11900      | 13.35890      | ⋯             | 20.57930      | 18.12230      | 18.65090      | 18.58170      | 15.60410      | 15.34920      | 13.04400      | 16.76130      | 15.91300      | 18.05510      | \n",
       "| 0610010F05Rik | KIAA1841      |  5.84091      |  6.54488      |  6.65366      |  4.80074      |  6.06263      |  5.57042      |  5.21223      |  5.56449      | ⋯             |  8.04684      |  5.92199      |  6.23551      |  4.73364      |  5.98708      |  4.26902      |  4.16373      |  3.47511      |  3.71875      |  3.95344      | \n",
       "| 0610010K14Rik | C17orf49      | 25.63690      | 24.08560      | 20.17560      | 25.34280      | 29.14040      | 31.46110      | 28.30990      | 22.17650      | ⋯             | 18.00200      | 24.00260      | 21.85860      | 23.72630      | 28.46520      | 31.19330      | 26.40880      | 32.53430      | 26.93620      | 29.38080      | \n",
       "| 0610011F06Rik | C16orf13      |  3.48174      |  5.79169      |  3.73809      |  5.94575      |  5.98899      |  9.04125      |  5.84235      |  7.36357      | ⋯             | 42.61460      | 38.91730      | 33.56900      | 37.34490      | 20.33750      | 18.81900      | 14.17990      | 14.93870      | 16.12340      | 13.39220      | \n",
       "\n",
       "\n"
      ],
      "text/plain": [
       "  mice_gene_symbol human_gene_symbol Tum1     Tum2     Tum3     WT1     \n",
       "1 0610007P14Rik    C14orf1            9.31368 10.13680 12.26660 11.92950\n",
       "2 0610009D07Rik    SF3B14            25.35280 32.25990 26.61000 29.73440\n",
       "3 0610009O20Rik    KIAA0141          12.45760 10.17690 11.95220 10.62740\n",
       "4 0610010F05Rik    KIAA1841           5.84091  6.54488  6.65366  4.80074\n",
       "5 0610010K14Rik    C17orf49          25.63690 24.08560 20.17560 25.34280\n",
       "6 0610011F06Rik    C16orf13           3.48174  5.79169  3.73809  5.94575\n",
       "  WT2      Tum4     Tum5     WT3      ⋯ Tum11    WT8      WT9      WT10    \n",
       "1 11.34170 10.45680 10.44590 13.05840 ⋯ 21.99580 33.98430 23.50140 24.80460\n",
       "2 37.16520 37.57330 30.74340 32.30680 ⋯ 28.76030 21.51540 30.83840 19.26180\n",
       "3  7.04763  9.63765 11.11900 13.35890 ⋯ 20.57930 18.12230 18.65090 18.58170\n",
       "4  6.06263  5.57042  5.21223  5.56449 ⋯  8.04684  5.92199  6.23551  4.73364\n",
       "5 29.14040 31.46110 28.30990 22.17650 ⋯ 18.00200 24.00260 21.85860 23.72630\n",
       "6  5.98899  9.04125  5.84235  7.36357 ⋯ 42.61460 38.91730 33.56900 37.34490\n",
       "  Tum12    Tum13    Tum14    WT11     WT12     WT13    \n",
       "1 17.16570 12.51170 16.03630 14.69160 14.03290 14.20440\n",
       "2 35.14690 33.53620 42.73760 29.27860 29.37960 28.06600\n",
       "3 15.60410 15.34920 13.04400 16.76130 15.91300 18.05510\n",
       "4  5.98708  4.26902  4.16373  3.47511  3.71875  3.95344\n",
       "5 28.46520 31.19330 26.40880 32.53430 26.93620 29.38080\n",
       "6 20.33750 18.81900 14.17990 14.93870 16.12340 13.39220"
      ]
     },
     "metadata": {},
     "output_type": "display_data"
    },
    {
     "data": {
      "text/html": [
       "<ol class=list-inline>\n",
       "\t<li>'mice_gene_symbol'</li>\n",
       "\t<li>'human_gene_symbol'</li>\n",
       "\t<li>'Tum1'</li>\n",
       "\t<li>'Tum2'</li>\n",
       "\t<li>'Tum3'</li>\n",
       "\t<li>'WT1'</li>\n",
       "\t<li>'WT2'</li>\n",
       "\t<li>'Tum4'</li>\n",
       "\t<li>'Tum5'</li>\n",
       "\t<li>'WT3'</li>\n",
       "\t<li>'WT4'</li>\n",
       "\t<li>'Tum6'</li>\n",
       "\t<li>'Tum7'</li>\n",
       "\t<li>'Tum8'</li>\n",
       "\t<li>'WT5'</li>\n",
       "\t<li>'WT6'</li>\n",
       "\t<li>'WT7'</li>\n",
       "\t<li>'Tum9'</li>\n",
       "\t<li>'Tum10'</li>\n",
       "\t<li>'Tum11'</li>\n",
       "\t<li>'WT8'</li>\n",
       "\t<li>'WT9'</li>\n",
       "\t<li>'WT10'</li>\n",
       "\t<li>'Tum12'</li>\n",
       "\t<li>'Tum13'</li>\n",
       "\t<li>'Tum14'</li>\n",
       "\t<li>'WT11'</li>\n",
       "\t<li>'WT12'</li>\n",
       "\t<li>'WT13'</li>\n",
       "</ol>\n"
      ],
      "text/latex": [
       "\\begin{enumerate*}\n",
       "\\item 'mice\\_gene\\_symbol'\n",
       "\\item 'human\\_gene\\_symbol'\n",
       "\\item 'Tum1'\n",
       "\\item 'Tum2'\n",
       "\\item 'Tum3'\n",
       "\\item 'WT1'\n",
       "\\item 'WT2'\n",
       "\\item 'Tum4'\n",
       "\\item 'Tum5'\n",
       "\\item 'WT3'\n",
       "\\item 'WT4'\n",
       "\\item 'Tum6'\n",
       "\\item 'Tum7'\n",
       "\\item 'Tum8'\n",
       "\\item 'WT5'\n",
       "\\item 'WT6'\n",
       "\\item 'WT7'\n",
       "\\item 'Tum9'\n",
       "\\item 'Tum10'\n",
       "\\item 'Tum11'\n",
       "\\item 'WT8'\n",
       "\\item 'WT9'\n",
       "\\item 'WT10'\n",
       "\\item 'Tum12'\n",
       "\\item 'Tum13'\n",
       "\\item 'Tum14'\n",
       "\\item 'WT11'\n",
       "\\item 'WT12'\n",
       "\\item 'WT13'\n",
       "\\end{enumerate*}\n"
      ],
      "text/markdown": [
       "1. 'mice_gene_symbol'\n",
       "2. 'human_gene_symbol'\n",
       "3. 'Tum1'\n",
       "4. 'Tum2'\n",
       "5. 'Tum3'\n",
       "6. 'WT1'\n",
       "7. 'WT2'\n",
       "8. 'Tum4'\n",
       "9. 'Tum5'\n",
       "10. 'WT3'\n",
       "11. 'WT4'\n",
       "12. 'Tum6'\n",
       "13. 'Tum7'\n",
       "14. 'Tum8'\n",
       "15. 'WT5'\n",
       "16. 'WT6'\n",
       "17. 'WT7'\n",
       "18. 'Tum9'\n",
       "19. 'Tum10'\n",
       "20. 'Tum11'\n",
       "21. 'WT8'\n",
       "22. 'WT9'\n",
       "23. 'WT10'\n",
       "24. 'Tum12'\n",
       "25. 'Tum13'\n",
       "26. 'Tum14'\n",
       "27. 'WT11'\n",
       "28. 'WT12'\n",
       "29. 'WT13'\n",
       "\n",
       "\n"
      ],
      "text/plain": [
       " [1] \"mice_gene_symbol\"  \"human_gene_symbol\" \"Tum1\"             \n",
       " [4] \"Tum2\"              \"Tum3\"              \"WT1\"              \n",
       " [7] \"WT2\"               \"Tum4\"              \"Tum5\"             \n",
       "[10] \"WT3\"               \"WT4\"               \"Tum6\"             \n",
       "[13] \"Tum7\"              \"Tum8\"              \"WT5\"              \n",
       "[16] \"WT6\"               \"WT7\"               \"Tum9\"             \n",
       "[19] \"Tum10\"             \"Tum11\"             \"WT8\"              \n",
       "[22] \"WT9\"               \"WT10\"              \"Tum12\"            \n",
       "[25] \"Tum13\"             \"Tum14\"             \"WT11\"             \n",
       "[28] \"WT12\"              \"WT13\"             "
      ]
     },
     "metadata": {},
     "output_type": "display_data"
    }
   ],
   "source": [
    "# データの読み込み\n",
    "df_fpkm = read_tsv(\"data/GSE59831_processed_data_FPKM.txt\")\n",
    "\n",
    "# dim\n",
    "df_fpkm %>% dim\n",
    "\n",
    "# 様子を見る\n",
    "df_fpkm %>% head\n",
    "\n",
    "# 列名だけを表示\n",
    "df_fpkm %>% colnames"
   ]
  },
  {
   "cell_type": "code",
   "execution_count": 30,
   "metadata": {},
   "outputs": [
    {
     "data": {
      "text/html": [
       "<ol class=list-inline>\n",
       "\t<li>46</li>\n",
       "\t<li>8</li>\n",
       "</ol>\n"
      ],
      "text/latex": [
       "\\begin{enumerate*}\n",
       "\\item 46\n",
       "\\item 8\n",
       "\\end{enumerate*}\n"
      ],
      "text/markdown": [
       "1. 46\n",
       "2. 8\n",
       "\n",
       "\n"
      ],
      "text/plain": [
       "[1] 46  8"
      ]
     },
     "metadata": {},
     "output_type": "display_data"
    },
    {
     "data": {
      "image/png": "[encoded data removed]",
      "text/plain": [
       "plot without title"
      ]
     },
     "metadata": {},
     "output_type": "display_data"
    }
   ],
   "source": [
    "# リガンドだけを可視化\n",
    "## うまくいっているなら、Tum1, Tum2, Tum3 (腫瘍組織内マクロファージ)で多く、WT1, WT2 (野生型) で少ない\n",
    "\n",
    "# dflr_pair に含まれるリガンドだけに絞り、 as.matrix　で行列にする\n",
    "x = df_fpkm %>% \n",
    "        select(human_gene_symbol, Tum1, Tum2, Tum3, WT1, WT2, Tum9, Tum10, Tum11) %>%\n",
    "        filter(human_gene_symbol %in% dflr_pair$From) %>% \n",
    "        select(-human_gene_symbol) %>% \n",
    "        as.matrix()\n",
    "\n",
    "# 何行何列\n",
    "dim(x)\n",
    "\n",
    "# ヒートマップをプロット\n",
    "heatmap(x, Colv = FALSE)"
   ]
  },
  {
   "cell_type": "code",
   "execution_count": 31,
   "metadata": {},
   "outputs": [
    {
     "data": {
      "text/html": [
       "<ol class=list-inline>\n",
       "\t<li>73</li>\n",
       "\t<li>8</li>\n",
       "</ol>\n"
      ],
      "text/latex": [
       "\\begin{enumerate*}\n",
       "\\item 73\n",
       "\\item 8\n",
       "\\end{enumerate*}\n"
      ],
      "text/markdown": [
       "1. 73\n",
       "2. 8\n",
       "\n",
       "\n"
      ],
      "text/plain": [
       "[1] 73  8"
      ]
     },
     "metadata": {},
     "output_type": "display_data"
    },
    {
     "data": {
      "image/png": "[encoded data removed]",
      "text/plain": [
       "plot without title"
      ]
     },
     "metadata": {},
     "output_type": "display_data"
    }
   ],
   "source": [
    "# 受容体だけを可視化\n",
    "## うまくいっているなら、Tum9, Tum10, Tum11 で多い\n",
    "\n",
    "# dflr_pair に含まれるリガンドだけに絞り、 as.matrix　で行列にする\n",
    "x = df_fpkm %>% \n",
    "        select(human_gene_symbol, Tum1, Tum2, Tum3, WT1, WT2, Tum9, Tum10, Tum11) %>%\n",
    "        filter(human_gene_symbol %in% dflr_pair$To) %>% \n",
    "        select(-human_gene_symbol) %>% \n",
    "        as.matrix()\n",
    "\n",
    "# 何行何列\n",
    "dim(x)\n",
    "\n",
    "# ヒートマップをプロット\n",
    "heatmap(x, Colv = FALSE)\n"
   ]
  },
  {
   "cell_type": "markdown",
   "metadata": {},
   "source": [
    "----\n",
    "\n",
    "----\n",
    "\n",
    "----\n",
    "\n",
    "\n",
    "## このあとどうするか？\n",
    "\n",
    "今のままでは、候補がかなり多いため、仮説を検証する実験をするのは難しそうです。また、この予測がどのくらい正しいのかも不明です。\n",
    "\n",
    "元論文では、このリガンド-受容体ペアを足がかりに、以下のような解析をします。\n",
    "\n",
    "- 受容体の下流のシグナル伝達経路から転写因子があるか探す（パスウェイデータベースを参照する）\n",
    "- それらの下流の転写因子がターゲットとする遺伝子を探す（パスウェイデータベースや遺伝子制御関係のデータベースを参照する）\n",
    "- それらのターゲット遺伝子群にランダムに比べて発現変動遺伝子が濃縮しているかを調べる（統計検定）\n",
    "\n",
    "このような解析を加えることで、単にリガンドと受容体が共起だけでなく、さらに信頼性のあるペアを探すことができます。\n",
    "\n",
    "ちなみに、著者らはこの方法をCCCExplorerと名付けています。詳しくは元の論文をご覧ください:\n",
    "\n",
    "- Toi _et al_., Transcriptome Analysis of Individual Stromal Cell Populations Identifies Stroma-Tumor Crosstalk in Mouse Lung Cancer Model, Cell Reports (2015) http://dx.doi.org/10.1016/j.celrep.2015.01.040 \n"
   ]
  },
  {
   "cell_type": "markdown",
   "metadata": {},
   "source": [
    "## 小まとめ\n",
    "\n",
    "このようにIDによる統合を繰り返すだけでもいろいろな仮説を立てられます。また、NGS解析とは言いつつ、NGSデータ以外の生命科学データを合わせることで、単なる発現変動遺伝子のリストよりも深い知見が得られるうることがみえてきたかと思います。\n"
   ]
  }
 ],
 "metadata": {
  "kernelspec": {
   "display_name": "R",
   "language": "R",
   "name": "ir"
  },
  "language_info": {
   "codemirror_mode": "r",
   "file_extension": ".r",
   "mimetype": "text/x-r-source",
   "name": "R",
   "pygments_lexer": "r",
   "version": "3.3.2"
  }
 },
 "nbformat": 4,
 "nbformat_minor": 2
}
